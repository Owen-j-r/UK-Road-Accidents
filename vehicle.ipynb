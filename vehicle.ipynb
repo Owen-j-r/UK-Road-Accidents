{
 "cells": [
  {
   "cell_type": "code",
   "execution_count": 124,
   "metadata": {},
   "outputs": [],
   "source": [
    "import pandas as pd\n",
    "import numpy as np\n",
    "\n",
    "veh_df = pd.read_csv('Vehicle_Information.csv', encoding='ISO-8859-1')"
   ]
  },
  {
   "cell_type": "markdown",
   "metadata": {},
   "source": [
    "## **Vehicle info**"
   ]
  },
  {
   "cell_type": "code",
   "execution_count": 125,
   "metadata": {},
   "outputs": [
    {
     "data": {
      "text/html": [
       "<div>\n",
       "<style scoped>\n",
       "    .dataframe tbody tr th:only-of-type {\n",
       "        vertical-align: middle;\n",
       "    }\n",
       "\n",
       "    .dataframe tbody tr th {\n",
       "        vertical-align: top;\n",
       "    }\n",
       "\n",
       "    .dataframe thead th {\n",
       "        text-align: right;\n",
       "    }\n",
       "</style>\n",
       "<table border=\"1\" class=\"dataframe\">\n",
       "  <thead>\n",
       "    <tr style=\"text-align: right;\">\n",
       "      <th></th>\n",
       "      <th>Accident_Index</th>\n",
       "      <th>Age_Band_of_Driver</th>\n",
       "      <th>Age_of_Vehicle</th>\n",
       "      <th>Driver_Home_Area_Type</th>\n",
       "      <th>Driver_IMD_Decile</th>\n",
       "      <th>Engine_Capacity_.CC.</th>\n",
       "      <th>Hit_Object_in_Carriageway</th>\n",
       "      <th>Hit_Object_off_Carriageway</th>\n",
       "      <th>Journey_Purpose_of_Driver</th>\n",
       "      <th>Junction_Location</th>\n",
       "      <th>...</th>\n",
       "      <th>Skidding_and_Overturning</th>\n",
       "      <th>Towing_and_Articulation</th>\n",
       "      <th>Vehicle_Leaving_Carriageway</th>\n",
       "      <th>Vehicle_Location.Restricted_Lane</th>\n",
       "      <th>Vehicle_Manoeuvre</th>\n",
       "      <th>Vehicle_Reference</th>\n",
       "      <th>Vehicle_Type</th>\n",
       "      <th>Was_Vehicle_Left_Hand_Drive</th>\n",
       "      <th>X1st_Point_of_Impact</th>\n",
       "      <th>Year</th>\n",
       "    </tr>\n",
       "  </thead>\n",
       "  <tbody>\n",
       "    <tr>\n",
       "      <th>0</th>\n",
       "      <td>200401BS00001</td>\n",
       "      <td>26 - 35</td>\n",
       "      <td>3.0</td>\n",
       "      <td>Urban area</td>\n",
       "      <td>4.0</td>\n",
       "      <td>1588.0</td>\n",
       "      <td>None</td>\n",
       "      <td>None</td>\n",
       "      <td>Data missing or out of range</td>\n",
       "      <td>Data missing or out of range</td>\n",
       "      <td>...</td>\n",
       "      <td>None</td>\n",
       "      <td>No tow/articulation</td>\n",
       "      <td>Did not leave carriageway</td>\n",
       "      <td>0.0</td>\n",
       "      <td>Going ahead other</td>\n",
       "      <td>2</td>\n",
       "      <td>109</td>\n",
       "      <td>Data missing or out of range</td>\n",
       "      <td>Front</td>\n",
       "      <td>2004</td>\n",
       "    </tr>\n",
       "    <tr>\n",
       "      <th>1</th>\n",
       "      <td>200401BS00002</td>\n",
       "      <td>26 - 35</td>\n",
       "      <td>NaN</td>\n",
       "      <td>Urban area</td>\n",
       "      <td>3.0</td>\n",
       "      <td>NaN</td>\n",
       "      <td>None</td>\n",
       "      <td>None</td>\n",
       "      <td>Data missing or out of range</td>\n",
       "      <td>Data missing or out of range</td>\n",
       "      <td>...</td>\n",
       "      <td>None</td>\n",
       "      <td>No tow/articulation</td>\n",
       "      <td>Did not leave carriageway</td>\n",
       "      <td>0.0</td>\n",
       "      <td>Going ahead other</td>\n",
       "      <td>1</td>\n",
       "      <td>109</td>\n",
       "      <td>Data missing or out of range</td>\n",
       "      <td>Front</td>\n",
       "      <td>2004</td>\n",
       "    </tr>\n",
       "    <tr>\n",
       "      <th>2</th>\n",
       "      <td>200401BS00003</td>\n",
       "      <td>26 - 35</td>\n",
       "      <td>4.0</td>\n",
       "      <td>Data missing or out of range</td>\n",
       "      <td>NaN</td>\n",
       "      <td>998.0</td>\n",
       "      <td>None</td>\n",
       "      <td>None</td>\n",
       "      <td>Data missing or out of range</td>\n",
       "      <td>Data missing or out of range</td>\n",
       "      <td>...</td>\n",
       "      <td>None</td>\n",
       "      <td>No tow/articulation</td>\n",
       "      <td>Did not leave carriageway</td>\n",
       "      <td>0.0</td>\n",
       "      <td>Turning right</td>\n",
       "      <td>1</td>\n",
       "      <td>109</td>\n",
       "      <td>Data missing or out of range</td>\n",
       "      <td>Front</td>\n",
       "      <td>2004</td>\n",
       "    </tr>\n",
       "    <tr>\n",
       "      <th>3</th>\n",
       "      <td>200401BS00003</td>\n",
       "      <td>66 - 75</td>\n",
       "      <td>NaN</td>\n",
       "      <td>Data missing or out of range</td>\n",
       "      <td>NaN</td>\n",
       "      <td>NaN</td>\n",
       "      <td>None</td>\n",
       "      <td>None</td>\n",
       "      <td>Data missing or out of range</td>\n",
       "      <td>Data missing or out of range</td>\n",
       "      <td>...</td>\n",
       "      <td>None</td>\n",
       "      <td>No tow/articulation</td>\n",
       "      <td>Did not leave carriageway</td>\n",
       "      <td>0.0</td>\n",
       "      <td>Going ahead other</td>\n",
       "      <td>2</td>\n",
       "      <td>109</td>\n",
       "      <td>Data missing or out of range</td>\n",
       "      <td>Front</td>\n",
       "      <td>2004</td>\n",
       "    </tr>\n",
       "    <tr>\n",
       "      <th>4</th>\n",
       "      <td>200401BS00004</td>\n",
       "      <td>26 - 35</td>\n",
       "      <td>1.0</td>\n",
       "      <td>Urban area</td>\n",
       "      <td>4.0</td>\n",
       "      <td>124.0</td>\n",
       "      <td>None</td>\n",
       "      <td>None</td>\n",
       "      <td>Data missing or out of range</td>\n",
       "      <td>Data missing or out of range</td>\n",
       "      <td>...</td>\n",
       "      <td>None</td>\n",
       "      <td>No tow/articulation</td>\n",
       "      <td>Did not leave carriageway</td>\n",
       "      <td>0.0</td>\n",
       "      <td>Going ahead other</td>\n",
       "      <td>1</td>\n",
       "      <td>Motorcycle 125cc and under</td>\n",
       "      <td>Data missing or out of range</td>\n",
       "      <td>Front</td>\n",
       "      <td>2004</td>\n",
       "    </tr>\n",
       "    <tr>\n",
       "      <th>5</th>\n",
       "      <td>200401BS00004</td>\n",
       "      <td>36 - 45</td>\n",
       "      <td>10.0</td>\n",
       "      <td>Data missing or out of range</td>\n",
       "      <td>NaN</td>\n",
       "      <td>1781.0</td>\n",
       "      <td>None</td>\n",
       "      <td>None</td>\n",
       "      <td>Data missing or out of range</td>\n",
       "      <td>Data missing or out of range</td>\n",
       "      <td>...</td>\n",
       "      <td>None</td>\n",
       "      <td>No tow/articulation</td>\n",
       "      <td>Did not leave carriageway</td>\n",
       "      <td>0.0</td>\n",
       "      <td>U-turn</td>\n",
       "      <td>2</td>\n",
       "      <td>109</td>\n",
       "      <td>Data missing or out of range</td>\n",
       "      <td>Offside</td>\n",
       "      <td>2004</td>\n",
       "    </tr>\n",
       "    <tr>\n",
       "      <th>6</th>\n",
       "      <td>200401BS00009</td>\n",
       "      <td>26 - 35</td>\n",
       "      <td>NaN</td>\n",
       "      <td>Urban area</td>\n",
       "      <td>4.0</td>\n",
       "      <td>NaN</td>\n",
       "      <td>None</td>\n",
       "      <td>None</td>\n",
       "      <td>Data missing or out of range</td>\n",
       "      <td>Data missing or out of range</td>\n",
       "      <td>...</td>\n",
       "      <td>Skidded</td>\n",
       "      <td>No tow/articulation</td>\n",
       "      <td>Did not leave carriageway</td>\n",
       "      <td>0.0</td>\n",
       "      <td>Going ahead other</td>\n",
       "      <td>1</td>\n",
       "      <td>Motorcycle 125cc and under</td>\n",
       "      <td>Data missing or out of range</td>\n",
       "      <td>Did not impact</td>\n",
       "      <td>2004</td>\n",
       "    </tr>\n",
       "    <tr>\n",
       "      <th>7</th>\n",
       "      <td>200401BS00010</td>\n",
       "      <td>36 - 45</td>\n",
       "      <td>NaN</td>\n",
       "      <td>Urban area</td>\n",
       "      <td>8.0</td>\n",
       "      <td>NaN</td>\n",
       "      <td>None</td>\n",
       "      <td>None</td>\n",
       "      <td>Data missing or out of range</td>\n",
       "      <td>Data missing or out of range</td>\n",
       "      <td>...</td>\n",
       "      <td>None</td>\n",
       "      <td>No tow/articulation</td>\n",
       "      <td>Did not leave carriageway</td>\n",
       "      <td>0.0</td>\n",
       "      <td>Turning right</td>\n",
       "      <td>1</td>\n",
       "      <td>109</td>\n",
       "      <td>Data missing or out of range</td>\n",
       "      <td>Front</td>\n",
       "      <td>2004</td>\n",
       "    </tr>\n",
       "    <tr>\n",
       "      <th>8</th>\n",
       "      <td>200401BS00012</td>\n",
       "      <td>46 - 55</td>\n",
       "      <td>3.0</td>\n",
       "      <td>Data missing or out of range</td>\n",
       "      <td>NaN</td>\n",
       "      <td>2685.0</td>\n",
       "      <td>None</td>\n",
       "      <td>None</td>\n",
       "      <td>Data missing or out of range</td>\n",
       "      <td>Data missing or out of range</td>\n",
       "      <td>...</td>\n",
       "      <td>None</td>\n",
       "      <td>No tow/articulation</td>\n",
       "      <td>Did not leave carriageway</td>\n",
       "      <td>0.0</td>\n",
       "      <td>Slowing or stopping</td>\n",
       "      <td>1</td>\n",
       "      <td>109</td>\n",
       "      <td>Data missing or out of range</td>\n",
       "      <td>Back</td>\n",
       "      <td>2004</td>\n",
       "    </tr>\n",
       "    <tr>\n",
       "      <th>9</th>\n",
       "      <td>200401BS00013</td>\n",
       "      <td>26 - 35</td>\n",
       "      <td>4.0</td>\n",
       "      <td>Urban area</td>\n",
       "      <td>6.0</td>\n",
       "      <td>2300.0</td>\n",
       "      <td>None</td>\n",
       "      <td>None</td>\n",
       "      <td>Data missing or out of range</td>\n",
       "      <td>Data missing or out of range</td>\n",
       "      <td>...</td>\n",
       "      <td>None</td>\n",
       "      <td>No tow/articulation</td>\n",
       "      <td>Did not leave carriageway</td>\n",
       "      <td>0.0</td>\n",
       "      <td>Turning right</td>\n",
       "      <td>1</td>\n",
       "      <td>109</td>\n",
       "      <td>Data missing or out of range</td>\n",
       "      <td>Offside</td>\n",
       "      <td>2004</td>\n",
       "    </tr>\n",
       "  </tbody>\n",
       "</table>\n",
       "<p>10 rows × 24 columns</p>\n",
       "</div>"
      ],
      "text/plain": [
       "  Accident_Index Age_Band_of_Driver  Age_of_Vehicle  \\\n",
       "0  200401BS00001            26 - 35             3.0   \n",
       "1  200401BS00002            26 - 35             NaN   \n",
       "2  200401BS00003            26 - 35             4.0   \n",
       "3  200401BS00003            66 - 75             NaN   \n",
       "4  200401BS00004            26 - 35             1.0   \n",
       "5  200401BS00004            36 - 45            10.0   \n",
       "6  200401BS00009            26 - 35             NaN   \n",
       "7  200401BS00010            36 - 45             NaN   \n",
       "8  200401BS00012            46 - 55             3.0   \n",
       "9  200401BS00013            26 - 35             4.0   \n",
       "\n",
       "          Driver_Home_Area_Type  Driver_IMD_Decile  Engine_Capacity_.CC.  \\\n",
       "0                    Urban area                4.0                1588.0   \n",
       "1                    Urban area                3.0                   NaN   \n",
       "2  Data missing or out of range                NaN                 998.0   \n",
       "3  Data missing or out of range                NaN                   NaN   \n",
       "4                    Urban area                4.0                 124.0   \n",
       "5  Data missing or out of range                NaN                1781.0   \n",
       "6                    Urban area                4.0                   NaN   \n",
       "7                    Urban area                8.0                   NaN   \n",
       "8  Data missing or out of range                NaN                2685.0   \n",
       "9                    Urban area                6.0                2300.0   \n",
       "\n",
       "  Hit_Object_in_Carriageway Hit_Object_off_Carriageway  \\\n",
       "0                      None                       None   \n",
       "1                      None                       None   \n",
       "2                      None                       None   \n",
       "3                      None                       None   \n",
       "4                      None                       None   \n",
       "5                      None                       None   \n",
       "6                      None                       None   \n",
       "7                      None                       None   \n",
       "8                      None                       None   \n",
       "9                      None                       None   \n",
       "\n",
       "      Journey_Purpose_of_Driver             Junction_Location  ...  \\\n",
       "0  Data missing or out of range  Data missing or out of range  ...   \n",
       "1  Data missing or out of range  Data missing or out of range  ...   \n",
       "2  Data missing or out of range  Data missing or out of range  ...   \n",
       "3  Data missing or out of range  Data missing or out of range  ...   \n",
       "4  Data missing or out of range  Data missing or out of range  ...   \n",
       "5  Data missing or out of range  Data missing or out of range  ...   \n",
       "6  Data missing or out of range  Data missing or out of range  ...   \n",
       "7  Data missing or out of range  Data missing or out of range  ...   \n",
       "8  Data missing or out of range  Data missing or out of range  ...   \n",
       "9  Data missing or out of range  Data missing or out of range  ...   \n",
       "\n",
       "  Skidding_and_Overturning Towing_and_Articulation  \\\n",
       "0                     None     No tow/articulation   \n",
       "1                     None     No tow/articulation   \n",
       "2                     None     No tow/articulation   \n",
       "3                     None     No tow/articulation   \n",
       "4                     None     No tow/articulation   \n",
       "5                     None     No tow/articulation   \n",
       "6                  Skidded     No tow/articulation   \n",
       "7                     None     No tow/articulation   \n",
       "8                     None     No tow/articulation   \n",
       "9                     None     No tow/articulation   \n",
       "\n",
       "  Vehicle_Leaving_Carriageway Vehicle_Location.Restricted_Lane  \\\n",
       "0   Did not leave carriageway                              0.0   \n",
       "1   Did not leave carriageway                              0.0   \n",
       "2   Did not leave carriageway                              0.0   \n",
       "3   Did not leave carriageway                              0.0   \n",
       "4   Did not leave carriageway                              0.0   \n",
       "5   Did not leave carriageway                              0.0   \n",
       "6   Did not leave carriageway                              0.0   \n",
       "7   Did not leave carriageway                              0.0   \n",
       "8   Did not leave carriageway                              0.0   \n",
       "9   Did not leave carriageway                              0.0   \n",
       "\n",
       "     Vehicle_Manoeuvre Vehicle_Reference                Vehicle_Type  \\\n",
       "0    Going ahead other                 2                         109   \n",
       "1    Going ahead other                 1                         109   \n",
       "2        Turning right                 1                         109   \n",
       "3    Going ahead other                 2                         109   \n",
       "4    Going ahead other                 1  Motorcycle 125cc and under   \n",
       "5               U-turn                 2                         109   \n",
       "6    Going ahead other                 1  Motorcycle 125cc and under   \n",
       "7        Turning right                 1                         109   \n",
       "8  Slowing or stopping                 1                         109   \n",
       "9        Turning right                 1                         109   \n",
       "\n",
       "    Was_Vehicle_Left_Hand_Drive X1st_Point_of_Impact  Year  \n",
       "0  Data missing or out of range                Front  2004  \n",
       "1  Data missing or out of range                Front  2004  \n",
       "2  Data missing or out of range                Front  2004  \n",
       "3  Data missing or out of range                Front  2004  \n",
       "4  Data missing or out of range                Front  2004  \n",
       "5  Data missing or out of range              Offside  2004  \n",
       "6  Data missing or out of range       Did not impact  2004  \n",
       "7  Data missing or out of range                Front  2004  \n",
       "8  Data missing or out of range                 Back  2004  \n",
       "9  Data missing or out of range              Offside  2004  \n",
       "\n",
       "[10 rows x 24 columns]"
      ]
     },
     "execution_count": 125,
     "metadata": {},
     "output_type": "execute_result"
    }
   ],
   "source": [
    "veh_df.head(10)"
   ]
  },
  {
   "cell_type": "code",
   "execution_count": 126,
   "metadata": {},
   "outputs": [
    {
     "name": "stdout",
     "output_type": "stream",
     "text": [
      "<class 'pandas.core.frame.DataFrame'>\n",
      "RangeIndex: 2177205 entries, 0 to 2177204\n",
      "Data columns (total 24 columns):\n",
      " #   Column                            Dtype  \n",
      "---  ------                            -----  \n",
      " 0   Accident_Index                    object \n",
      " 1   Age_Band_of_Driver                object \n",
      " 2   Age_of_Vehicle                    float64\n",
      " 3   Driver_Home_Area_Type             object \n",
      " 4   Driver_IMD_Decile                 float64\n",
      " 5   Engine_Capacity_.CC.              float64\n",
      " 6   Hit_Object_in_Carriageway         object \n",
      " 7   Hit_Object_off_Carriageway        object \n",
      " 8   Journey_Purpose_of_Driver         object \n",
      " 9   Junction_Location                 object \n",
      " 10  make                              object \n",
      " 11  model                             object \n",
      " 12  Propulsion_Code                   object \n",
      " 13  Sex_of_Driver                     object \n",
      " 14  Skidding_and_Overturning          object \n",
      " 15  Towing_and_Articulation           object \n",
      " 16  Vehicle_Leaving_Carriageway       object \n",
      " 17  Vehicle_Location.Restricted_Lane  float64\n",
      " 18  Vehicle_Manoeuvre                 object \n",
      " 19  Vehicle_Reference                 int64  \n",
      " 20  Vehicle_Type                      object \n",
      " 21  Was_Vehicle_Left_Hand_Drive       object \n",
      " 22  X1st_Point_of_Impact              object \n",
      " 23  Year                              int64  \n",
      "dtypes: float64(4), int64(2), object(18)\n",
      "memory usage: 398.7+ MB\n"
     ]
    }
   ],
   "source": [
    "veh_df.info()"
   ]
  },
  {
   "cell_type": "code",
   "execution_count": 127,
   "metadata": {},
   "outputs": [
    {
     "data": {
      "text/html": [
       "<div>\n",
       "<style scoped>\n",
       "    .dataframe tbody tr th:only-of-type {\n",
       "        vertical-align: middle;\n",
       "    }\n",
       "\n",
       "    .dataframe tbody tr th {\n",
       "        vertical-align: top;\n",
       "    }\n",
       "\n",
       "    .dataframe thead th {\n",
       "        text-align: right;\n",
       "    }\n",
       "</style>\n",
       "<table border=\"1\" class=\"dataframe\">\n",
       "  <thead>\n",
       "    <tr style=\"text-align: right;\">\n",
       "      <th></th>\n",
       "      <th>Age_of_Vehicle</th>\n",
       "      <th>Driver_IMD_Decile</th>\n",
       "      <th>Engine_Capacity_.CC.</th>\n",
       "      <th>Vehicle_Location.Restricted_Lane</th>\n",
       "      <th>Vehicle_Reference</th>\n",
       "      <th>Year</th>\n",
       "    </tr>\n",
       "  </thead>\n",
       "  <tbody>\n",
       "    <tr>\n",
       "      <th>count</th>\n",
       "      <td>1.819056e+06</td>\n",
       "      <td>1.442393e+06</td>\n",
       "      <td>1.911344e+06</td>\n",
       "      <td>2.175888e+06</td>\n",
       "      <td>2.177205e+06</td>\n",
       "      <td>2.177205e+06</td>\n",
       "    </tr>\n",
       "    <tr>\n",
       "      <th>mean</th>\n",
       "      <td>7.108167e+00</td>\n",
       "      <td>5.387559e+00</td>\n",
       "      <td>2.042234e+03</td>\n",
       "      <td>1.073042e-01</td>\n",
       "      <td>1.553405e+00</td>\n",
       "      <td>2.010934e+03</td>\n",
       "    </tr>\n",
       "    <tr>\n",
       "      <th>std</th>\n",
       "      <td>4.725886e+00</td>\n",
       "      <td>2.821651e+00</td>\n",
       "      <td>1.950143e+03</td>\n",
       "      <td>8.799644e-01</td>\n",
       "      <td>7.752484e-01</td>\n",
       "      <td>3.694375e+00</td>\n",
       "    </tr>\n",
       "    <tr>\n",
       "      <th>min</th>\n",
       "      <td>1.000000e+00</td>\n",
       "      <td>1.000000e+00</td>\n",
       "      <td>1.000000e+00</td>\n",
       "      <td>0.000000e+00</td>\n",
       "      <td>1.000000e+00</td>\n",
       "      <td>2.004000e+03</td>\n",
       "    </tr>\n",
       "    <tr>\n",
       "      <th>25%</th>\n",
       "      <td>3.000000e+00</td>\n",
       "      <td>3.000000e+00</td>\n",
       "      <td>1.299000e+03</td>\n",
       "      <td>0.000000e+00</td>\n",
       "      <td>1.000000e+00</td>\n",
       "      <td>2.008000e+03</td>\n",
       "    </tr>\n",
       "    <tr>\n",
       "      <th>50%</th>\n",
       "      <td>7.000000e+00</td>\n",
       "      <td>5.000000e+00</td>\n",
       "      <td>1.598000e+03</td>\n",
       "      <td>0.000000e+00</td>\n",
       "      <td>1.000000e+00</td>\n",
       "      <td>2.011000e+03</td>\n",
       "    </tr>\n",
       "    <tr>\n",
       "      <th>75%</th>\n",
       "      <td>1.000000e+01</td>\n",
       "      <td>8.000000e+00</td>\n",
       "      <td>1.997000e+03</td>\n",
       "      <td>0.000000e+00</td>\n",
       "      <td>2.000000e+00</td>\n",
       "      <td>2.014000e+03</td>\n",
       "    </tr>\n",
       "    <tr>\n",
       "      <th>max</th>\n",
       "      <td>1.110000e+02</td>\n",
       "      <td>1.000000e+01</td>\n",
       "      <td>9.600000e+04</td>\n",
       "      <td>9.000000e+00</td>\n",
       "      <td>9.100000e+01</td>\n",
       "      <td>2.016000e+03</td>\n",
       "    </tr>\n",
       "  </tbody>\n",
       "</table>\n",
       "</div>"
      ],
      "text/plain": [
       "       Age_of_Vehicle  Driver_IMD_Decile  Engine_Capacity_.CC.  \\\n",
       "count    1.819056e+06       1.442393e+06          1.911344e+06   \n",
       "mean     7.108167e+00       5.387559e+00          2.042234e+03   \n",
       "std      4.725886e+00       2.821651e+00          1.950143e+03   \n",
       "min      1.000000e+00       1.000000e+00          1.000000e+00   \n",
       "25%      3.000000e+00       3.000000e+00          1.299000e+03   \n",
       "50%      7.000000e+00       5.000000e+00          1.598000e+03   \n",
       "75%      1.000000e+01       8.000000e+00          1.997000e+03   \n",
       "max      1.110000e+02       1.000000e+01          9.600000e+04   \n",
       "\n",
       "       Vehicle_Location.Restricted_Lane  Vehicle_Reference          Year  \n",
       "count                      2.175888e+06       2.177205e+06  2.177205e+06  \n",
       "mean                       1.073042e-01       1.553405e+00  2.010934e+03  \n",
       "std                        8.799644e-01       7.752484e-01  3.694375e+00  \n",
       "min                        0.000000e+00       1.000000e+00  2.004000e+03  \n",
       "25%                        0.000000e+00       1.000000e+00  2.008000e+03  \n",
       "50%                        0.000000e+00       1.000000e+00  2.011000e+03  \n",
       "75%                        0.000000e+00       2.000000e+00  2.014000e+03  \n",
       "max                        9.000000e+00       9.100000e+01  2.016000e+03  "
      ]
     },
     "execution_count": 127,
     "metadata": {},
     "output_type": "execute_result"
    }
   ],
   "source": [
    "veh_df.describe()"
   ]
  },
  {
   "cell_type": "code",
   "execution_count": 128,
   "metadata": {},
   "outputs": [
    {
     "data": {
      "text/plain": [
       "(2177205, 24)"
      ]
     },
     "execution_count": 128,
     "metadata": {},
     "output_type": "execute_result"
    }
   ],
   "source": [
    "veh_df.shape"
   ]
  },
  {
   "cell_type": "code",
   "execution_count": 129,
   "metadata": {},
   "outputs": [
    {
     "data": {
      "text/plain": [
       "Accident_Index                           0\n",
       "Age_Band_of_Driver                       0\n",
       "Age_of_Vehicle                      358149\n",
       "Driver_Home_Area_Type                    0\n",
       "Driver_IMD_Decile                   734812\n",
       "Engine_Capacity_.CC.                265861\n",
       "Hit_Object_in_Carriageway                0\n",
       "Hit_Object_off_Carriageway               0\n",
       "Journey_Purpose_of_Driver                0\n",
       "Junction_Location                        0\n",
       "make                                110845\n",
       "model                               325331\n",
       "Propulsion_Code                     245843\n",
       "Sex_of_Driver                            0\n",
       "Skidding_and_Overturning                 0\n",
       "Towing_and_Articulation                  0\n",
       "Vehicle_Leaving_Carriageway              0\n",
       "Vehicle_Location.Restricted_Lane      1317\n",
       "Vehicle_Manoeuvre                        0\n",
       "Vehicle_Reference                        0\n",
       "Vehicle_Type                             0\n",
       "Was_Vehicle_Left_Hand_Drive              0\n",
       "X1st_Point_of_Impact                     0\n",
       "Year                                     0\n",
       "dtype: int64"
      ]
     },
     "execution_count": 129,
     "metadata": {},
     "output_type": "execute_result"
    }
   ],
   "source": [
    "veh_df.isnull().sum()"
   ]
  },
  {
   "cell_type": "markdown",
   "metadata": {},
   "source": [
    "## **1) Handling missing values**"
   ]
  },
  {
   "cell_type": "markdown",
   "metadata": {},
   "source": [
    "##### **Age_of_Vehicle**\n",
    "Imputing the missing values in the Age_of_Vehicle column by preserving the existing age distribution in the dataset.\n",
    "\n",
    "We first calculate the probability distribution of non-null Age_of_Vehicle values. This is done by dividing the value counts of each unique age by the total number of non-null ages.\n",
    "\n",
    "Next, we impute the missing values by randomly sampling from the non-null values using the calculated probability distribution. This ensures that the imputed ages follow the same distribution as the original data.\n",
    "\n",
    "By using this approach, we maintain the age distribution of the vehicles in the dataset, ensuring that the imputed values do not introduce any bias or imbalance."
   ]
  },
  {
   "cell_type": "code",
   "execution_count": 130,
   "metadata": {},
   "outputs": [],
   "source": [
    "# compute the value counts and convert to a DataFrame\n",
    "value_counts_df = veh_df['Age_of_Vehicle'].value_counts().reset_index().rename(columns={'index': 'Age', 'Age_of_Vehicle': 'Count'})\n",
    "\n",
    "# save the DataFrame to a CSV file, to check as refernce to confirm imputation has happenned \n",
    "value_counts_df.to_csv('age_of_vehicle_counts.csv', index=False)"
   ]
  },
  {
   "cell_type": "code",
   "execution_count": 131,
   "metadata": {},
   "outputs": [],
   "source": [
    "# Calculate the probability distribution of non-null Age_of_Vehicle values\n",
    "non_null_age_of_vehicle = veh_df[veh_df['Age_of_Vehicle'].notnull()]['Age_of_Vehicle']\n",
    "value_counts = non_null_age_of_vehicle.value_counts()\n",
    "prob_distribution = value_counts / value_counts.sum()\n",
    "\n",
    "# Impute the missing values using the calculated probability distribution\n",
    "num_missing_values = veh_df['Age_of_Vehicle'].isnull().sum()\n",
    "imputed_values = np.random.choice(prob_distribution.index, size=num_missing_values, p=prob_distribution.values)\n",
    "\n",
    "# Assign the imputed values to the missing values in the Age_of_Vehicle column\n",
    "veh_df.loc[veh_df['Age_of_Vehicle'].isnull(), 'Age_of_Vehicle'] = imputed_values"
   ]
  },
  {
   "cell_type": "markdown",
   "metadata": {},
   "source": [
    "checking successful imputation comparing value counts before and after"
   ]
  },
  {
   "cell_type": "code",
   "execution_count": 132,
   "metadata": {},
   "outputs": [],
   "source": [
    "# compute the value counts and convert to a DataFrame\n",
    "value_counts_df = veh_df['Age_of_Vehicle'].value_counts().reset_index().rename(columns={'index': 'Age', 'Age_of_Vehicle': 'Count'})\n",
    "\n",
    "# save the DataFrame to a CSV file\n",
    "value_counts_df.to_csv('age_of_vehicle_counts.csv2', index=False)"
   ]
  },
  {
   "cell_type": "markdown",
   "metadata": {},
   "source": [
    "##### **Driver_IMD_Decile**\n",
    "imputing a large number of missing values (about 34% in this case) using random sampling might not be the best approach, as it could introduce more noise to the dataset. Also, there isn't any strong correlation between the Driver_IMD_Decile and other columns logically, so it would be difficult to accurately estimate the missing values based on other features.\n",
    "\n",
    "In this case, I will go with replacing the NaN values with -1, which represents \"unknown\" or \"missing data.\" This will keep the missing values separate from the actual data and allows for further analysis or modeling to take into account the presence of unknown IMD decile values"
   ]
  },
  {
   "cell_type": "code",
   "execution_count": 133,
   "metadata": {},
   "outputs": [],
   "source": [
    "veh_df['Driver_IMD_Decile'] = veh_df['Driver_IMD_Decile'].astype('str').replace('nan', '-1').astype('category')"
   ]
  },
  {
   "cell_type": "markdown",
   "metadata": {},
   "source": [
    "##### **Engine_Capacity_.CC.**\n",
    "fill the missing Engine_Capacity_.CC. values using the average engine capacity for the same make and model in the dataset, given that both make and model values are present for the row with the missing engine capacity."
   ]
  },
  {
   "cell_type": "code",
   "execution_count": 134,
   "metadata": {},
   "outputs": [],
   "source": [
    "# Step 1: Calculate the mean engine capacity for each make and model\n",
    "mean_engine_capacity = veh_df.groupby(['make', 'model'])['Engine_Capacity_.CC.'].mean().reset_index()\n",
    "\n",
    "# Step 2: Define a function to replace NaN engine capacity with the mean engine capacity for the same make and model\n",
    "def fill_engine_capacity(row, mean_engine_capacity):\n",
    "    if pd.isnull(row['Engine_Capacity_.CC.']):\n",
    "        make = row['make']\n",
    "        model = row['model']\n",
    "        if pd.notnull(make) and pd.notnull(model):\n",
    "            mean_capacity = mean_engine_capacity.loc[(mean_engine_capacity['make'] == make) & (mean_engine_capacity['model'] == model), 'Engine_Capacity_.CC.']\n",
    "            if not mean_capacity.empty:\n",
    "                return mean_capacity.values[0]\n",
    "    return row['Engine_Capacity_.CC.']\n",
    "\n",
    "# Step 3: Apply the function to the entire dataset\n",
    "veh_df['Engine_Capacity_.CC.'] = veh_df.apply(lambda row: fill_engine_capacity(row, mean_engine_capacity), axis=1)\n"
   ]
  },
  {
   "cell_type": "code",
   "execution_count": 135,
   "metadata": {},
   "outputs": [],
   "source": [
    "# filling in any values that couldnt be changed due to other column values not being present to -1 as to be unknown\n",
    "veh_df['Engine_Capacity_.CC.'].fillna(-1, inplace=True)"
   ]
  },
  {
   "cell_type": "markdown",
   "metadata": {},
   "source": [
    "##### **Make and Model**\n",
    "Since each car model is specific to one make, we can create a dictionary mapping each model to its corresponding make. Then, we can use this dictionary to fill in the missing make values when the model is available."
   ]
  },
  {
   "cell_type": "code",
   "execution_count": 136,
   "metadata": {},
   "outputs": [],
   "source": [
    "# Step 1: Create a dictionary mapping each model to its corresponding make\n",
    "make_model_dict = veh_df.loc[veh_df['make'].notnull() & veh_df['model'].notnull()].set_index('model')['make'].to_dict()\n",
    "\n",
    "# Step 2: Create a function to fill in the missing make values\n",
    "def fill_missing_make(row):\n",
    "    make, model = row['make'], row['model']\n",
    "    if pd.isna(make) and model in make_model_dict:\n",
    "        return make_model_dict[model]\n",
    "    return make\n",
    "\n",
    "# Step 3: Apply the function to the entire dataset\n",
    "veh_df['make'] = veh_df.apply(fill_missing_make, axis=1)"
   ]
  },
  {
   "cell_type": "code",
   "execution_count": 137,
   "metadata": {},
   "outputs": [
    {
     "data": {
      "text/plain": [
       "110845"
      ]
     },
     "execution_count": 137,
     "metadata": {},
     "output_type": "execute_result"
    }
   ],
   "source": [
    "veh_df['make'].isnull().sum()"
   ]
  },
  {
   "cell_type": "code",
   "execution_count": 138,
   "metadata": {},
   "outputs": [
    {
     "name": "stdout",
     "output_type": "stream",
     "text": [
      "Number of rows missing both make and model: 110845\n"
     ]
    }
   ],
   "source": [
    "missing_both = veh_df[(veh_df['make'].isnull()) & (veh_df['model'].isnull())].shape[0]\n",
    "print(f\"Number of rows missing both make and model: {missing_both}\")\n"
   ]
  },
  {
   "cell_type": "markdown",
   "metadata": {},
   "source": [
    "After running that code and seeing no change in missing make values, it is clear that in all rows where make is missing, model is also missing. So another method will have to be used. What this does mean though is that since there are 110845 missing make values and 325331 missing model values, is that there are 214,486 rows where make is present and model is missing, therefore i would be happy to substitute the model in these rows for the mode of each make"
   ]
  },
  {
   "cell_type": "code",
   "execution_count": 139,
   "metadata": {},
   "outputs": [],
   "source": [
    "# Step 1: Create a dictionary mapping each 'make' to its mode 'model'\n",
    "make_model_mode = veh_df[veh_df['model'].notnull()].groupby('make')['model'].agg(pd.Series.mode).to_dict()\n",
    "\n",
    "# Step 2: Create a function that takes a row as input and returns the mode 'model' for the given 'make' if the 'model' value is missing\n",
    "def fill_model(row):\n",
    "    if pd.isnull(row['model']) and not pd.isnull(row['make']):\n",
    "        return make_model_mode.get(row['make'], np.nan)\n",
    "    else:\n",
    "        return row['model']\n",
    "\n",
    "# Step 3: Apply the function to the DataFrame to update the 'model' column\n",
    "veh_df['model'] = veh_df.apply(fill_model, axis=1)\n"
   ]
  },
  {
   "cell_type": "code",
   "execution_count": 140,
   "metadata": {},
   "outputs": [
    {
     "data": {
      "text/plain": [
       "112449"
      ]
     },
     "execution_count": 140,
     "metadata": {},
     "output_type": "execute_result"
    }
   ],
   "source": [
    "veh_df['model'].isnull().sum()"
   ]
  },
  {
   "cell_type": "code",
   "execution_count": 141,
   "metadata": {},
   "outputs": [
    {
     "name": "stdout",
     "output_type": "stream",
     "text": [
      "1604\n"
     ]
    }
   ],
   "source": [
    "rows_with_make_enginecap_no_model = veh_df[(veh_df['make'].notnull()) & (veh_df['model'].isnull())].shape[0]\n",
    "print(rows_with_make_enginecap_no_model)"
   ]
  },
  {
   "cell_type": "code",
   "execution_count": 142,
   "metadata": {},
   "outputs": [],
   "source": [
    "# Select the 1604 rows where 'make' is missing but 'model' is present\n",
    "missing_make_df = veh_df[(veh_df['make'].isnull()) & (veh_df['model'].notnull())]\n",
    "\n",
    "# Fill in the missing 'make' values using the make_model_dict\n",
    "missing_make_df['make'] = missing_make_df['model'].map(lambda x: make_model_dict.get(x))\n",
    "\n",
    "# Update the original dataset with the filled-in 'make' values\n",
    "veh_df.update(missing_make_df)"
   ]
  },
  {
   "cell_type": "markdown",
   "metadata": {},
   "source": [
    "changing remaining unknown make and model values to -1, as they occur in the same rows as each other and we cant accurately predict what either one of them will be without the other. "
   ]
  },
  {
   "cell_type": "code",
   "execution_count": 143,
   "metadata": {},
   "outputs": [],
   "source": [
    "veh_df['make'] = veh_df['make'].fillna('-1').astype(str)\n",
    "veh_df['model'] = veh_df['model'].fillna('-1').astype(str)\n",
    "veh_df['make'] = veh_df['make'].astype('category')\n",
    "veh_df['model'] = veh_df['model'].astype('category')"
   ]
  },
  {
   "cell_type": "markdown",
   "metadata": {},
   "source": [
    "##### **Propulsion_Code**\n",
    "Converting unknowns to -1 and changinb to category type"
   ]
  },
  {
   "cell_type": "code",
   "execution_count": 144,
   "metadata": {},
   "outputs": [],
   "source": [
    "veh_df['Propulsion_Code'] = veh_df['Propulsion_Code'].fillna('Undefined').astype('category')"
   ]
  },
  {
   "cell_type": "markdown",
   "metadata": {},
   "source": [
    "##### **Vehicle_Location.Restricted_Lane**\n",
    "same method as propulsion code"
   ]
  },
  {
   "cell_type": "code",
   "execution_count": 145,
   "metadata": {},
   "outputs": [],
   "source": [
    "veh_df['Vehicle_Location.Restricted_Lane'] = veh_df['Vehicle_Location.Restricted_Lane'].astype('str').replace('nan', '-1').astype('category')\n"
   ]
  },
  {
   "cell_type": "markdown",
   "metadata": {},
   "source": [
    "**Checking imputation has worked for all**"
   ]
  },
  {
   "cell_type": "code",
   "execution_count": 146,
   "metadata": {},
   "outputs": [
    {
     "data": {
      "text/plain": [
       "Accident_Index                      0\n",
       "Age_Band_of_Driver                  0\n",
       "Age_of_Vehicle                      0\n",
       "Driver_Home_Area_Type               0\n",
       "Driver_IMD_Decile                   0\n",
       "Engine_Capacity_.CC.                0\n",
       "Hit_Object_in_Carriageway           0\n",
       "Hit_Object_off_Carriageway          0\n",
       "Journey_Purpose_of_Driver           0\n",
       "Junction_Location                   0\n",
       "make                                0\n",
       "model                               0\n",
       "Propulsion_Code                     0\n",
       "Sex_of_Driver                       0\n",
       "Skidding_and_Overturning            0\n",
       "Towing_and_Articulation             0\n",
       "Vehicle_Leaving_Carriageway         0\n",
       "Vehicle_Location.Restricted_Lane    0\n",
       "Vehicle_Manoeuvre                   0\n",
       "Vehicle_Reference                   0\n",
       "Vehicle_Type                        0\n",
       "Was_Vehicle_Left_Hand_Drive         0\n",
       "X1st_Point_of_Impact                0\n",
       "Year                                0\n",
       "dtype: int64"
      ]
     },
     "execution_count": 146,
     "metadata": {},
     "output_type": "execute_result"
    }
   ],
   "source": [
    "veh_df.isnull().sum()"
   ]
  },
  {
   "cell_type": "markdown",
   "metadata": {},
   "source": [
    "#### **Inspecting other columns where missing values may not be 'nan'**\n",
    "##### **Age_Band_of_Driver**"
   ]
  },
  {
   "cell_type": "markdown",
   "metadata": {},
   "source": [
    "After closer inspection of Age band of drivers column it we can see there is a large amount of data as 'Data missing or out of range', so ti handle this, in order to keep these rows of data usaeable we can change the missing values by evenly distrubutinh the other age bands in teh ratios they appear in the data set so it doesnt skew this data any direction. "
   ]
  },
  {
   "cell_type": "code",
   "execution_count": 147,
   "metadata": {},
   "outputs": [
    {
     "data": {
      "text/plain": [
       "26 - 35                         450531\n",
       "36 - 45                         435686\n",
       "46 - 55                         348762\n",
       "21 - 25                         238765\n",
       "56 - 65                         206181\n",
       "16 - 20                         175874\n",
       "Data missing or out of range    171052\n",
       "66 - 75                          91454\n",
       "Over 75                          54236\n",
       "11 - 15                           3655\n",
       "6 - 10                             884\n",
       "0 - 5                              125\n",
       "Name: Age_Band_of_Driver, dtype: int64"
      ]
     },
     "execution_count": 147,
     "metadata": {},
     "output_type": "execute_result"
    }
   ],
   "source": [
    "veh_df['Age_Band_of_Driver'].value_counts()"
   ]
  },
  {
   "cell_type": "code",
   "execution_count": 148,
   "metadata": {},
   "outputs": [
    {
     "name": "stdout",
     "output_type": "stream",
     "text": [
      "26 - 35    488989\n",
      "36 - 45    472637\n",
      "46 - 55    378489\n",
      "21 - 25    259368\n",
      "56 - 65    223549\n",
      "16 - 20    190868\n",
      "66 - 75     99339\n",
      "Over 75     58913\n",
      "11 - 15      3967\n",
      "6 - 10        951\n",
      "0 - 5         135\n",
      "Name: Age_Band_of_Driver, dtype: int64\n"
     ]
    }
   ],
   "source": [
    "# Step 1: Calculate the probability distribution of the existing age bands\n",
    "age_band_counts = veh_df[veh_df['Age_Band_of_Driver'] != 'Data missing or out of range']['Age_Band_of_Driver'].value_counts()\n",
    "age_band_probs = age_band_counts / age_band_counts.sum()\n",
    "\n",
    "# Step 2: Replace 'Data missing or out of range' with a randomly chosen age band\n",
    "mask = veh_df['Age_Band_of_Driver'] == 'Data missing or out of range'\n",
    "missing_age_band_count = mask.sum()\n",
    "\n",
    "random_age_bands = np.random.choice(age_band_probs.index, size=missing_age_band_count, p=age_band_probs.values)\n",
    "veh_df.loc[mask, 'Age_Band_of_Driver'] = random_age_bands\n",
    "\n",
    "# Check the updated value counts\n",
    "print(veh_df['Age_Band_of_Driver'].value_counts())"
   ]
  },
  {
   "cell_type": "markdown",
   "metadata": {},
   "source": [
    "##### **Driver_Hone_Area_Type**"
   ]
  },
  {
   "cell_type": "code",
   "execution_count": 149,
   "metadata": {},
   "outputs": [
    {
     "data": {
      "text/plain": [
       "Urban area                      1436598\n",
       "Data missing or out of range     334344\n",
       "Rural                            232360\n",
       "Small town                       173903\n",
       "Name: Driver_Home_Area_Type, dtype: int64"
      ]
     },
     "execution_count": 149,
     "metadata": {},
     "output_type": "execute_result"
    }
   ],
   "source": [
    "veh_df['Driver_Home_Area_Type'].value_counts()"
   ]
  },
  {
   "cell_type": "markdown",
   "metadata": {},
   "source": [
    "Just keeping as is, as replacing Data missing here would skew the data too much"
   ]
  },
  {
   "cell_type": "markdown",
   "metadata": {},
   "source": [
    "##### **Hit_Object_in_Carriageway**"
   ]
  },
  {
   "cell_type": "code",
   "execution_count": 150,
   "metadata": {},
   "outputs": [
    {
     "data": {
      "text/plain": [
       "None                                2087824\n",
       "Kerb                                  34354\n",
       "Parked vehicle                        27401\n",
       "Bollard or refuge                      9981\n",
       "Other object                           5715\n",
       "Any animal (except ridden horse)       2683\n",
       "Central island of roundabout           2190\n",
       "Open door of vehicle                   1919\n",
       "Bridge (side)                          1441\n",
       "Data missing or out of range           1302\n",
       "Previous accident                      1023\n",
       "Road works                              957\n",
       "Bridge (roof)                           415\n",
       "Name: Hit_Object_in_Carriageway, dtype: int64"
      ]
     },
     "execution_count": 150,
     "metadata": {},
     "output_type": "execute_result"
    }
   ],
   "source": [
    "veh_df['Hit_Object_in_Carriageway'].value_counts()"
   ]
  },
  {
   "cell_type": "markdown",
   "metadata": {},
   "source": [
    "Keeping data as it is"
   ]
  },
  {
   "cell_type": "code",
   "execution_count": 151,
   "metadata": {},
   "outputs": [
    {
     "data": {
      "text/plain": [
       "None                             1989741\n",
       "Other permanent object             56640\n",
       "Tree                               29161\n",
       "Entered ditch                      18301\n",
       "Road sign or traffic signal        17394\n",
       "Central crash barrier              16538\n",
       "Near/Offside crash barrier         15835\n",
       "Lamp post                          15293\n",
       "Wall or fence                      10423\n",
       "Telegraph or electricity pole       5828\n",
       "Bus stop or bus shelter             1300\n",
       "Data missing or out of range         533\n",
       "Submerged in water                   218\n",
       "Name: Hit_Object_off_Carriageway, dtype: int64"
      ]
     },
     "execution_count": 151,
     "metadata": {},
     "output_type": "execute_result"
    }
   ],
   "source": [
    "veh_df['Hit_Object_off_Carriageway'].value_counts()"
   ]
  },
  {
   "cell_type": "code",
   "execution_count": 152,
   "metadata": {},
   "outputs": [
    {
     "data": {
      "text/plain": [
       "Not known                       834626\n",
       "Other/Not known (2005-10)       555726\n",
       "Journey as part of work         391713\n",
       "Commuting to/from work          202525\n",
       "Data missing or out of range    133560\n",
       "Other                            32965\n",
       "Taking pupil to/from school      21792\n",
       "Pupil riding to/from school       4298\n",
       "Name: Journey_Purpose_of_Driver, dtype: int64"
      ]
     },
     "execution_count": 152,
     "metadata": {},
     "output_type": "execute_result"
    }
   ],
   "source": [
    "veh_df['Journey_Purpose_of_Driver'].value_counts()"
   ]
  },
  {
   "cell_type": "code",
   "execution_count": 153,
   "metadata": {},
   "outputs": [
    {
     "data": {
      "text/plain": [
       "Not at or within 20 metres of junction                         808108\n",
       "Approaching junction or waiting/parked at junction approach    476804\n",
       "Mid Junction - on roundabout or on main road                   423304\n",
       "Data missing or out of range                                   122612\n",
       "Cleared junction or waiting/parked at junction exit            114061\n",
       "Entering main road                                              89797\n",
       "Entering roundabout                                             54546\n",
       "Leaving main road                                               51094\n",
       "Leaving roundabout                                              28965\n",
       "Entering from slip road                                          7914\n",
       "Name: Junction_Location, dtype: int64"
      ]
     },
     "execution_count": 153,
     "metadata": {},
     "output_type": "execute_result"
    }
   ],
   "source": [
    "veh_df['Junction_Location'].value_counts()"
   ]
  },
  {
   "cell_type": "code",
   "execution_count": 154,
   "metadata": {},
   "outputs": [
    {
     "data": {
      "text/plain": [
       "Petrol                 1143097\n",
       "Heavy oil               775829\n",
       "Undefined               245843\n",
       "Hybrid electric           9172\n",
       "Gas/Bi-fuel               1642\n",
       "Petrol/Gas (LPG)           664\n",
       "Electric                   618\n",
       "Gas                        175\n",
       "Electric diesel            143\n",
       "New fuel technology         11\n",
       "Gas Diesel                   7\n",
       "Steam                        3\n",
       "Fuel cells                   1\n",
       "Name: Propulsion_Code, dtype: int64"
      ]
     },
     "execution_count": 154,
     "metadata": {},
     "output_type": "execute_result"
    }
   ],
   "source": [
    "veh_df['Propulsion_Code'].value_counts()"
   ]
  },
  {
   "cell_type": "code",
   "execution_count": 155,
   "metadata": {},
   "outputs": [
    {
     "data": {
      "text/plain": [
       "Male                            1468081\n",
       "Female                           633005\n",
       "Not known                         76051\n",
       "Data missing or out of range         68\n",
       "Name: Sex_of_Driver, dtype: int64"
      ]
     },
     "execution_count": 155,
     "metadata": {},
     "output_type": "execute_result"
    }
   ],
   "source": [
    "veh_df['Sex_of_Driver'].value_counts()"
   ]
  },
  {
   "cell_type": "code",
   "execution_count": 156,
   "metadata": {},
   "outputs": [
    {
     "data": {
      "text/plain": [
       "None                            1898208\n",
       "Skidded                          199825\n",
       "Skidded and overturned            42339\n",
       "Overturned                        34100\n",
       "Jackknifed                         1127\n",
       "Data missing or out of range       1015\n",
       "Jackknifed and overturned           591\n",
       "Name: Skidding_and_Overturning, dtype: int64"
      ]
     },
     "execution_count": 156,
     "metadata": {},
     "output_type": "execute_result"
    }
   ],
   "source": [
    "veh_df['Skidding_and_Overturning'].value_counts()"
   ]
  },
  {
   "cell_type": "code",
   "execution_count": 157,
   "metadata": {},
   "outputs": [
    {
     "data": {
      "text/plain": [
       "Car                                      1528628\n",
       "Van / Goods 3.5 tonnes mgw or under       117427\n",
       "109                                        82920\n",
       "Bus or coach (17 or more pass seats)       76757\n",
       "Motorcycle over 500cc                      71472\n",
       "Motorcycle 125cc and under                 61600\n",
       "Goods 7.5 tonnes mgw and over              55426\n",
       "Taxi/Private hire car                      43781\n",
       "Pedal cycle                                38904\n",
       "Motorcycle 50cc and under                  22415\n",
       "Motorcycle over 125cc and up to 500cc      20960\n",
       "Goods over 3.5t. and under 7.5t            18236\n",
       "Other vehicle                              13994\n",
       "106                                         7568\n",
       "Agricultural vehicle                        6018\n",
       "Minibus (8 - 16 passenger seats)            5900\n",
       "Goods vehicle - unknown weight              1876\n",
       "108                                         1334\n",
       "Motorcycle - unknown cc                      741\n",
       "Mobility scooter                             502\n",
       "Data missing or out of range                 401\n",
       "Ridden horse                                 224\n",
       "Electric motorcycle                           78\n",
       "Tram                                          43\n",
       "Name: Vehicle_Type, dtype: int64"
      ]
     },
     "execution_count": 157,
     "metadata": {},
     "output_type": "execute_result"
    }
   ],
   "source": [
    "veh_df['Vehicle_Type'].value_counts()"
   ]
  },
  {
   "cell_type": "code",
   "execution_count": 158,
   "metadata": {},
   "outputs": [
    {
     "data": {
      "text/plain": [
       "Car                                      1528628\n",
       "Van / Goods 3.5 tonnes mgw or under       117427\n",
       "109                                        82920\n",
       "Bus or coach (17 or more pass seats)       76757\n",
       "Motorcycle over 500cc                      71472\n",
       "Motorcycle 125cc and under                 61600\n",
       "Goods 7.5 tonnes mgw and over              55426\n",
       "Taxi/Private hire car                      43781\n",
       "Pedal cycle                                38904\n",
       "Motorcycle 50cc and under                  22415\n",
       "Motorcycle over 125cc and up to 500cc      20960\n",
       "Goods over 3.5t. and under 7.5t            18236\n",
       "Other vehicle                              13994\n",
       "106                                         7568\n",
       "Agricultural vehicle                        6018\n",
       "Minibus (8 - 16 passenger seats)            5900\n",
       "Goods vehicle - unknown weight              1876\n",
       "108                                         1334\n",
       "Motorcycle - unknown cc                      741\n",
       "Mobility scooter                             502\n",
       "Data missing or out of range                 401\n",
       "Ridden horse                                 224\n",
       "Electric motorcycle                           78\n",
       "Tram                                          43\n",
       "Name: Vehicle_Type, dtype: int64"
      ]
     },
     "execution_count": 158,
     "metadata": {},
     "output_type": "execute_result"
    }
   ],
   "source": [
    "veh_df['Vehicle_Type'].value_counts()"
   ]
  },
  {
   "cell_type": "markdown",
   "metadata": {},
   "source": [
    "As we can see here, some values are a labeled as their code value instead of the name value, so we will change them in accordance with the data info we have by creating a dictionary of codes and names to map."
   ]
  },
  {
   "cell_type": "code",
   "execution_count": 159,
   "metadata": {},
   "outputs": [],
   "source": [
    "# Step 1: Create a dictionary to map vehicle type codes to names\n",
    "vehicle_type_mapping = {\n",
    "    1: 'Pedal cycle',\n",
    "    2: 'Motorcycle 50cc and under',\n",
    "    3: 'Motorcycle 125cc and under',\n",
    "    4: 'Motorcycle over 125cc and up to 500cc',\n",
    "    5: 'Motorcycle over 500cc',\n",
    "    8: 'Taxi/Private hire car',\n",
    "    9: 'Car',\n",
    "    10: 'Minibus (8 - 16 passenger seats)',\n",
    "    11: 'Bus or coach (17 or more pass seats)',\n",
    "    16: 'Ridden horse',\n",
    "    17: 'Agricultural vehicle',\n",
    "    18: 'Tram',\n",
    "    19: 'Van / Goods 3.5 tonnes mgw or under',\n",
    "    20: 'Goods over 3.5t. and under 7.5t',\n",
    "    21: 'Goods 7.5 tonnes mgw and over',\n",
    "    22: 'Mobility scooter',\n",
    "    23: 'Electric motorcycle',\n",
    "    90: 'Other vehicle',\n",
    "    97: 'Motorcycle - unknown cc',\n",
    "    98: 'Goods vehicle - unknown weight',\n",
    "    99: 'Unknown vehicle type (self rep only)',\n",
    "    103: 'Motorcycle - Scooter (1979-1998)',\n",
    "    104: 'Motorcycle (1979-1998)',\n",
    "    105: 'Motorcycle - Combination (1979-1998)',\n",
    "    106: 'Motorcycle over 125cc (1999-2004)',\n",
    "    108: 'Taxi (excluding private hire cars) (1979-2004)',\n",
    "    109: 'Car (including private hire cars) (1979-2004)',\n",
    "    110: 'Minibus/Motor caravan (1979-1998)',\n",
    "    113: 'Goods over 3.5 tonnes (1979-1998)',\n",
    "    -1: 'Data missing or out of range'\n",
    "}\n",
    "\n",
    "# Step 2: Replace numeric values in the 'Vehicle_Type' column with their corresponding names\n",
    "veh_df['Vehicle_Type'] = veh_df['Vehicle_Type'].apply(lambda x: vehicle_type_mapping[int(x)] if str(x).isnumeric() else x)"
   ]
  },
  {
   "cell_type": "code",
   "execution_count": 160,
   "metadata": {},
   "outputs": [
    {
     "data": {
      "text/plain": [
       "No                              2045375\n",
       "Data missing or out of range     127943\n",
       "Yes                                3887\n",
       "Name: Was_Vehicle_Left_Hand_Drive, dtype: int64"
      ]
     },
     "execution_count": 160,
     "metadata": {},
     "output_type": "execute_result"
    }
   ],
   "source": [
    "veh_df['Was_Vehicle_Left_Hand_Drive'].value_counts()"
   ]
  },
  {
   "cell_type": "markdown",
   "metadata": {},
   "source": [
    "## **2) Handling data types**"
   ]
  },
  {
   "cell_type": "code",
   "execution_count": 161,
   "metadata": {},
   "outputs": [
    {
     "data": {
      "text/plain": [
       "Accident_Index                        object\n",
       "Age_Band_of_Driver                    object\n",
       "Age_of_Vehicle                       float64\n",
       "Driver_Home_Area_Type                 object\n",
       "Driver_IMD_Decile                   category\n",
       "Engine_Capacity_.CC.                 float64\n",
       "Hit_Object_in_Carriageway             object\n",
       "Hit_Object_off_Carriageway            object\n",
       "Journey_Purpose_of_Driver             object\n",
       "Junction_Location                     object\n",
       "make                                category\n",
       "model                               category\n",
       "Propulsion_Code                     category\n",
       "Sex_of_Driver                         object\n",
       "Skidding_and_Overturning              object\n",
       "Towing_and_Articulation               object\n",
       "Vehicle_Leaving_Carriageway           object\n",
       "Vehicle_Location.Restricted_Lane    category\n",
       "Vehicle_Manoeuvre                     object\n",
       "Vehicle_Reference                      int64\n",
       "Vehicle_Type                          object\n",
       "Was_Vehicle_Left_Hand_Drive           object\n",
       "X1st_Point_of_Impact                  object\n",
       "Year                                   int64\n",
       "dtype: object"
      ]
     },
     "execution_count": 161,
     "metadata": {},
     "output_type": "execute_result"
    }
   ],
   "source": [
    "veh_df.dtypes"
   ]
  },
  {
   "cell_type": "code",
   "execution_count": 162,
   "metadata": {},
   "outputs": [
    {
     "name": "stdout",
     "output_type": "stream",
     "text": [
      "Accident_Index                        object\n",
      "Age_Band_of_Driver                  category\n",
      "Age_of_Vehicle                         int32\n",
      "Driver_Home_Area_Type               category\n",
      "Driver_IMD_Decile                   category\n",
      "Engine_Capacity_.CC.                   int32\n",
      "Hit_Object_in_Carriageway           category\n",
      "Hit_Object_off_Carriageway          category\n",
      "Journey_Purpose_of_Driver           category\n",
      "Junction_Location                   category\n",
      "make                                category\n",
      "model                               category\n",
      "Propulsion_Code                     category\n",
      "Sex_of_Driver                       category\n",
      "Skidding_and_Overturning            category\n",
      "Towing_and_Articulation             category\n",
      "Vehicle_Leaving_Carriageway         category\n",
      "Vehicle_Location.Restricted_Lane    category\n",
      "Vehicle_Manoeuvre                   category\n",
      "Vehicle_Reference                      int32\n",
      "Vehicle_Type                        category\n",
      "Was_Vehicle_Left_Hand_Drive         category\n",
      "X1st_Point_of_Impact                category\n",
      "Year                                   int32\n",
      "dtype: object\n"
     ]
    }
   ],
   "source": [
    "# Convert object columns to category\n",
    "category_columns = [\n",
    "    'Age_Band_of_Driver',\n",
    "    'Driver_Home_Area_Type',\n",
    "    'Hit_Object_in_Carriageway',\n",
    "    'Hit_Object_off_Carriageway',\n",
    "    'Journey_Purpose_of_Driver',\n",
    "    'Junction_Location',\n",
    "    'Sex_of_Driver',\n",
    "    'Skidding_and_Overturning',\n",
    "    'Towing_and_Articulation',\n",
    "    'Vehicle_Leaving_Carriageway',\n",
    "    'Vehicle_Manoeuvre',\n",
    "    'Vehicle_Type',\n",
    "    'Was_Vehicle_Left_Hand_Drive',\n",
    "    'X1st_Point_of_Impact'\n",
    "]\n",
    "\n",
    "for col in category_columns:\n",
    "    veh_df[col] = veh_df[col].astype('category')\n",
    "\n",
    "# Convert float columns to the appropriate data type\n",
    "veh_df['Age_of_Vehicle'] = veh_df['Age_of_Vehicle'].fillna(-1).astype('int32')\n",
    "veh_df['Engine_Capacity_.CC.'] = veh_df['Engine_Capacity_.CC.'].fillna(-1).astype('int32')\n",
    "\n",
    "# Convert integer columns to the appropriate data type\n",
    "veh_df['Vehicle_Reference'] = veh_df['Vehicle_Reference'].astype('int32')\n",
    "veh_df['Year'] = veh_df['Year'].astype('int32')\n",
    "\n",
    "# Check the updated data types\n",
    "print(veh_df.dtypes)\n"
   ]
  },
  {
   "cell_type": "markdown",
   "metadata": {},
   "source": [
    "## **Feature Engineering**"
   ]
  },
  {
   "cell_type": "markdown",
   "metadata": {},
   "source": [
    "creating new column for more general vehicle type"
   ]
  },
  {
   "cell_type": "code",
   "execution_count": 163,
   "metadata": {},
   "outputs": [
    {
     "data": {
      "text/plain": [
       "Car           1656663\n",
       "Motorcycle     184834\n",
       "Van            119303\n",
       "Bus             82657\n",
       "Lorry           73662\n",
       "Bicycle         38904\n",
       "Other           21182\n",
       "Name: General_Vehicle_Type, dtype: int64"
      ]
     },
     "execution_count": 163,
     "metadata": {},
     "output_type": "execute_result"
    }
   ],
   "source": [
    "def map_general_vehicle_type(specific_type):\n",
    "    if specific_type in [\"Taxi/Private hire car\", \"Car\", \"Taxi (excluding private hire cars) (1979-2004)\", \"Car (including private hire cars) (1979-2004)\"]:\n",
    "        return \"Car\"\n",
    "    elif specific_type in [\"Motorcycle 50cc and under\", \"Motorcycle 125cc and under\", \"Motorcycle over 125cc and up to 500cc\", \"Motorcycle over 500cc\", \"Motorcycle - unknown cc\", \"Motorcycle - Scooter (1979-1998)\", \"Motorcycle (1979-1998)\", \"Motorcycle - Combination (1979-1998)\", \"Motorcycle over 125cc (1999-2004)\", \"Electric motorcycle\"]:\n",
    "        return \"Motorcycle\"\n",
    "    elif specific_type in [\"Minibus (8 - 16 passenger seats)\", \"Bus or coach (17 or more pass seats)\", \"Minibus/Motor caravan (1979-1998)\"]:\n",
    "        return \"Bus\"\n",
    "    elif specific_type in [\"Van / Goods 3.5 tonnes mgw or under\", \"Goods vehicle - unknown weight\"]:\n",
    "        return \"Van\"\n",
    "    elif specific_type in [\"Goods over 3.5t. and under 7.5t\", \"Goods 7.5 tonnes mgw and over\", \"Goods over 3.5 tonnes (1979-1998)\"]:\n",
    "        return \"Lorry\"\n",
    "    elif specific_type == \"Pedal cycle\":\n",
    "        return \"Bicycle\"\n",
    "    else:\n",
    "        return \"Other\"\n",
    "\n",
    "# Apply the mapping function to create the new 'General_Vehicle_Type' column\n",
    "veh_df['General_Vehicle_Type'] = veh_df['Vehicle_Type'].apply(map_general_vehicle_type)\n",
    "\n",
    "veh_df['General_Vehicle_Type'].value_counts()"
   ]
  },
  {
   "cell_type": "code",
   "execution_count": 164,
   "metadata": {},
   "outputs": [
    {
     "data": {
      "text/html": [
       "<div>\n",
       "<style scoped>\n",
       "    .dataframe tbody tr th:only-of-type {\n",
       "        vertical-align: middle;\n",
       "    }\n",
       "\n",
       "    .dataframe tbody tr th {\n",
       "        vertical-align: top;\n",
       "    }\n",
       "\n",
       "    .dataframe thead th {\n",
       "        text-align: right;\n",
       "    }\n",
       "</style>\n",
       "<table border=\"1\" class=\"dataframe\">\n",
       "  <thead>\n",
       "    <tr style=\"text-align: right;\">\n",
       "      <th></th>\n",
       "      <th>Accident_Index</th>\n",
       "      <th>Age_Band_of_Driver</th>\n",
       "      <th>Age_of_Vehicle</th>\n",
       "      <th>Driver_Home_Area_Type</th>\n",
       "      <th>Driver_IMD_Decile</th>\n",
       "      <th>Engine_Capacity_.CC.</th>\n",
       "      <th>Hit_Object_in_Carriageway</th>\n",
       "      <th>Hit_Object_off_Carriageway</th>\n",
       "      <th>Journey_Purpose_of_Driver</th>\n",
       "      <th>Junction_Location</th>\n",
       "      <th>...</th>\n",
       "      <th>Towing_and_Articulation</th>\n",
       "      <th>Vehicle_Leaving_Carriageway</th>\n",
       "      <th>Vehicle_Location.Restricted_Lane</th>\n",
       "      <th>Vehicle_Manoeuvre</th>\n",
       "      <th>Vehicle_Reference</th>\n",
       "      <th>Vehicle_Type</th>\n",
       "      <th>Was_Vehicle_Left_Hand_Drive</th>\n",
       "      <th>X1st_Point_of_Impact</th>\n",
       "      <th>Year</th>\n",
       "      <th>General_Vehicle_Type</th>\n",
       "    </tr>\n",
       "  </thead>\n",
       "  <tbody>\n",
       "    <tr>\n",
       "      <th>0</th>\n",
       "      <td>200401BS00001</td>\n",
       "      <td>26 - 35</td>\n",
       "      <td>3</td>\n",
       "      <td>Urban area</td>\n",
       "      <td>4.0</td>\n",
       "      <td>1588</td>\n",
       "      <td>None</td>\n",
       "      <td>None</td>\n",
       "      <td>Data missing or out of range</td>\n",
       "      <td>Data missing or out of range</td>\n",
       "      <td>...</td>\n",
       "      <td>No tow/articulation</td>\n",
       "      <td>Did not leave carriageway</td>\n",
       "      <td>0.0</td>\n",
       "      <td>Going ahead other</td>\n",
       "      <td>2</td>\n",
       "      <td>Car (including private hire cars) (1979-2004)</td>\n",
       "      <td>Data missing or out of range</td>\n",
       "      <td>Front</td>\n",
       "      <td>2004</td>\n",
       "      <td>Car</td>\n",
       "    </tr>\n",
       "    <tr>\n",
       "      <th>1</th>\n",
       "      <td>200401BS00002</td>\n",
       "      <td>26 - 35</td>\n",
       "      <td>4</td>\n",
       "      <td>Urban area</td>\n",
       "      <td>3.0</td>\n",
       "      <td>122</td>\n",
       "      <td>None</td>\n",
       "      <td>None</td>\n",
       "      <td>Data missing or out of range</td>\n",
       "      <td>Data missing or out of range</td>\n",
       "      <td>...</td>\n",
       "      <td>No tow/articulation</td>\n",
       "      <td>Did not leave carriageway</td>\n",
       "      <td>0.0</td>\n",
       "      <td>Going ahead other</td>\n",
       "      <td>1</td>\n",
       "      <td>Car (including private hire cars) (1979-2004)</td>\n",
       "      <td>Data missing or out of range</td>\n",
       "      <td>Front</td>\n",
       "      <td>2004</td>\n",
       "      <td>Car</td>\n",
       "    </tr>\n",
       "    <tr>\n",
       "      <th>2</th>\n",
       "      <td>200401BS00003</td>\n",
       "      <td>26 - 35</td>\n",
       "      <td>4</td>\n",
       "      <td>Data missing or out of range</td>\n",
       "      <td>-1</td>\n",
       "      <td>998</td>\n",
       "      <td>None</td>\n",
       "      <td>None</td>\n",
       "      <td>Data missing or out of range</td>\n",
       "      <td>Data missing or out of range</td>\n",
       "      <td>...</td>\n",
       "      <td>No tow/articulation</td>\n",
       "      <td>Did not leave carriageway</td>\n",
       "      <td>0.0</td>\n",
       "      <td>Turning right</td>\n",
       "      <td>1</td>\n",
       "      <td>Car (including private hire cars) (1979-2004)</td>\n",
       "      <td>Data missing or out of range</td>\n",
       "      <td>Front</td>\n",
       "      <td>2004</td>\n",
       "      <td>Car</td>\n",
       "    </tr>\n",
       "    <tr>\n",
       "      <th>3</th>\n",
       "      <td>200401BS00003</td>\n",
       "      <td>66 - 75</td>\n",
       "      <td>11</td>\n",
       "      <td>Data missing or out of range</td>\n",
       "      <td>-1</td>\n",
       "      <td>2402</td>\n",
       "      <td>None</td>\n",
       "      <td>None</td>\n",
       "      <td>Data missing or out of range</td>\n",
       "      <td>Data missing or out of range</td>\n",
       "      <td>...</td>\n",
       "      <td>No tow/articulation</td>\n",
       "      <td>Did not leave carriageway</td>\n",
       "      <td>0.0</td>\n",
       "      <td>Going ahead other</td>\n",
       "      <td>2</td>\n",
       "      <td>Car (including private hire cars) (1979-2004)</td>\n",
       "      <td>Data missing or out of range</td>\n",
       "      <td>Front</td>\n",
       "      <td>2004</td>\n",
       "      <td>Car</td>\n",
       "    </tr>\n",
       "    <tr>\n",
       "      <th>4</th>\n",
       "      <td>200401BS00004</td>\n",
       "      <td>26 - 35</td>\n",
       "      <td>1</td>\n",
       "      <td>Urban area</td>\n",
       "      <td>4.0</td>\n",
       "      <td>124</td>\n",
       "      <td>None</td>\n",
       "      <td>None</td>\n",
       "      <td>Data missing or out of range</td>\n",
       "      <td>Data missing or out of range</td>\n",
       "      <td>...</td>\n",
       "      <td>No tow/articulation</td>\n",
       "      <td>Did not leave carriageway</td>\n",
       "      <td>0.0</td>\n",
       "      <td>Going ahead other</td>\n",
       "      <td>1</td>\n",
       "      <td>Motorcycle 125cc and under</td>\n",
       "      <td>Data missing or out of range</td>\n",
       "      <td>Front</td>\n",
       "      <td>2004</td>\n",
       "      <td>Motorcycle</td>\n",
       "    </tr>\n",
       "  </tbody>\n",
       "</table>\n",
       "<p>5 rows × 25 columns</p>\n",
       "</div>"
      ],
      "text/plain": [
       "  Accident_Index Age_Band_of_Driver  Age_of_Vehicle  \\\n",
       "0  200401BS00001            26 - 35               3   \n",
       "1  200401BS00002            26 - 35               4   \n",
       "2  200401BS00003            26 - 35               4   \n",
       "3  200401BS00003            66 - 75              11   \n",
       "4  200401BS00004            26 - 35               1   \n",
       "\n",
       "          Driver_Home_Area_Type Driver_IMD_Decile  Engine_Capacity_.CC.  \\\n",
       "0                    Urban area               4.0                  1588   \n",
       "1                    Urban area               3.0                   122   \n",
       "2  Data missing or out of range                -1                   998   \n",
       "3  Data missing or out of range                -1                  2402   \n",
       "4                    Urban area               4.0                   124   \n",
       "\n",
       "  Hit_Object_in_Carriageway Hit_Object_off_Carriageway  \\\n",
       "0                      None                       None   \n",
       "1                      None                       None   \n",
       "2                      None                       None   \n",
       "3                      None                       None   \n",
       "4                      None                       None   \n",
       "\n",
       "      Journey_Purpose_of_Driver             Junction_Location  ...  \\\n",
       "0  Data missing or out of range  Data missing or out of range  ...   \n",
       "1  Data missing or out of range  Data missing or out of range  ...   \n",
       "2  Data missing or out of range  Data missing or out of range  ...   \n",
       "3  Data missing or out of range  Data missing or out of range  ...   \n",
       "4  Data missing or out of range  Data missing or out of range  ...   \n",
       "\n",
       "  Towing_and_Articulation Vehicle_Leaving_Carriageway  \\\n",
       "0     No tow/articulation   Did not leave carriageway   \n",
       "1     No tow/articulation   Did not leave carriageway   \n",
       "2     No tow/articulation   Did not leave carriageway   \n",
       "3     No tow/articulation   Did not leave carriageway   \n",
       "4     No tow/articulation   Did not leave carriageway   \n",
       "\n",
       "  Vehicle_Location.Restricted_Lane  Vehicle_Manoeuvre Vehicle_Reference  \\\n",
       "0                              0.0  Going ahead other                 2   \n",
       "1                              0.0  Going ahead other                 1   \n",
       "2                              0.0      Turning right                 1   \n",
       "3                              0.0  Going ahead other                 2   \n",
       "4                              0.0  Going ahead other                 1   \n",
       "\n",
       "                                    Vehicle_Type  \\\n",
       "0  Car (including private hire cars) (1979-2004)   \n",
       "1  Car (including private hire cars) (1979-2004)   \n",
       "2  Car (including private hire cars) (1979-2004)   \n",
       "3  Car (including private hire cars) (1979-2004)   \n",
       "4                     Motorcycle 125cc and under   \n",
       "\n",
       "    Was_Vehicle_Left_Hand_Drive X1st_Point_of_Impact  Year  \\\n",
       "0  Data missing or out of range                Front  2004   \n",
       "1  Data missing or out of range                Front  2004   \n",
       "2  Data missing or out of range                Front  2004   \n",
       "3  Data missing or out of range                Front  2004   \n",
       "4  Data missing or out of range                Front  2004   \n",
       "\n",
       "   General_Vehicle_Type  \n",
       "0                   Car  \n",
       "1                   Car  \n",
       "2                   Car  \n",
       "3                   Car  \n",
       "4            Motorcycle  \n",
       "\n",
       "[5 rows x 25 columns]"
      ]
     },
     "execution_count": 164,
     "metadata": {},
     "output_type": "execute_result"
    }
   ],
   "source": [
    "veh_df.head()"
   ]
  },
  {
   "cell_type": "code",
   "execution_count": 166,
   "metadata": {},
   "outputs": [],
   "source": [
    "veh_df.to_csv('clean_veh_info.csv')"
   ]
  }
 ],
 "metadata": {
  "kernelspec": {
   "display_name": "Python 3.11.2 64-bit",
   "language": "python",
   "name": "python3"
  },
  "language_info": {
   "codemirror_mode": {
    "name": "ipython",
    "version": 3
   },
   "file_extension": ".py",
   "mimetype": "text/x-python",
   "name": "python",
   "nbconvert_exporter": "python",
   "pygments_lexer": "ipython3",
   "version": "3.11.2"
  },
  "orig_nbformat": 4,
  "vscode": {
   "interpreter": {
    "hash": "333d2c9757a75282c9d4867cccb346dd97fbdd6438562bec117fa31e687fe23c"
   }
  }
 },
 "nbformat": 4,
 "nbformat_minor": 2
}
