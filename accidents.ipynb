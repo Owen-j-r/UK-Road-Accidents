{
 "cells": [
  {
   "cell_type": "code",
   "execution_count": 95,
   "metadata": {},
   "outputs": [
    {
     "name": "stderr",
     "output_type": "stream",
     "text": [
      "/var/folders/ly/dg_yy0m54vb9my4bfgbtld880000gn/T/ipykernel_27458/3952171714.py:8: DtypeWarning: Columns (0) have mixed types. Specify dtype option on import or set low_memory=False.\n",
      "  acc_df = pd.read_csv('Accident_Information.csv')\n"
     ]
    }
   ],
   "source": [
    "import pandas as pd\n",
    "import numpy as np\n",
    "\n",
    "acc_df = pd.read_csv('Accident_Information.csv')"
   ]
  },
  {
   "cell_type": "markdown",
   "metadata": {},
   "source": [
    "#### Accident Info"
   ]
  },
  {
   "cell_type": "code",
   "execution_count": 96,
   "metadata": {},
   "outputs": [
    {
     "data": {
      "text/html": [
       "<div>\n",
       "<style scoped>\n",
       "    .dataframe tbody tr th:only-of-type {\n",
       "        vertical-align: middle;\n",
       "    }\n",
       "\n",
       "    .dataframe tbody tr th {\n",
       "        vertical-align: top;\n",
       "    }\n",
       "\n",
       "    .dataframe thead th {\n",
       "        text-align: right;\n",
       "    }\n",
       "</style>\n",
       "<table border=\"1\" class=\"dataframe\">\n",
       "  <thead>\n",
       "    <tr style=\"text-align: right;\">\n",
       "      <th></th>\n",
       "      <th>Accident_Index</th>\n",
       "      <th>1st_Road_Class</th>\n",
       "      <th>1st_Road_Number</th>\n",
       "      <th>2nd_Road_Class</th>\n",
       "      <th>2nd_Road_Number</th>\n",
       "      <th>Accident_Severity</th>\n",
       "      <th>Carriageway_Hazards</th>\n",
       "      <th>Date</th>\n",
       "      <th>Day_of_Week</th>\n",
       "      <th>Did_Police_Officer_Attend_Scene_of_Accident</th>\n",
       "      <th>...</th>\n",
       "      <th>Police_Force</th>\n",
       "      <th>Road_Surface_Conditions</th>\n",
       "      <th>Road_Type</th>\n",
       "      <th>Special_Conditions_at_Site</th>\n",
       "      <th>Speed_limit</th>\n",
       "      <th>Time</th>\n",
       "      <th>Urban_or_Rural_Area</th>\n",
       "      <th>Weather_Conditions</th>\n",
       "      <th>Year</th>\n",
       "      <th>InScotland</th>\n",
       "    </tr>\n",
       "  </thead>\n",
       "  <tbody>\n",
       "    <tr>\n",
       "      <th>0</th>\n",
       "      <td>200501BS00001</td>\n",
       "      <td>A</td>\n",
       "      <td>3218.0</td>\n",
       "      <td>NaN</td>\n",
       "      <td>0.0</td>\n",
       "      <td>Serious</td>\n",
       "      <td>None</td>\n",
       "      <td>2005-01-04</td>\n",
       "      <td>Tuesday</td>\n",
       "      <td>1.0</td>\n",
       "      <td>...</td>\n",
       "      <td>Metropolitan Police</td>\n",
       "      <td>Wet or damp</td>\n",
       "      <td>Single carriageway</td>\n",
       "      <td>None</td>\n",
       "      <td>30.0</td>\n",
       "      <td>17:42</td>\n",
       "      <td>Urban</td>\n",
       "      <td>Raining no high winds</td>\n",
       "      <td>2005</td>\n",
       "      <td>No</td>\n",
       "    </tr>\n",
       "    <tr>\n",
       "      <th>1</th>\n",
       "      <td>200501BS00002</td>\n",
       "      <td>B</td>\n",
       "      <td>450.0</td>\n",
       "      <td>C</td>\n",
       "      <td>0.0</td>\n",
       "      <td>Slight</td>\n",
       "      <td>None</td>\n",
       "      <td>2005-01-05</td>\n",
       "      <td>Wednesday</td>\n",
       "      <td>1.0</td>\n",
       "      <td>...</td>\n",
       "      <td>Metropolitan Police</td>\n",
       "      <td>Dry</td>\n",
       "      <td>Dual carriageway</td>\n",
       "      <td>None</td>\n",
       "      <td>30.0</td>\n",
       "      <td>17:36</td>\n",
       "      <td>Urban</td>\n",
       "      <td>Fine no high winds</td>\n",
       "      <td>2005</td>\n",
       "      <td>No</td>\n",
       "    </tr>\n",
       "    <tr>\n",
       "      <th>2</th>\n",
       "      <td>200501BS00003</td>\n",
       "      <td>C</td>\n",
       "      <td>0.0</td>\n",
       "      <td>NaN</td>\n",
       "      <td>0.0</td>\n",
       "      <td>Slight</td>\n",
       "      <td>None</td>\n",
       "      <td>2005-01-06</td>\n",
       "      <td>Thursday</td>\n",
       "      <td>1.0</td>\n",
       "      <td>...</td>\n",
       "      <td>Metropolitan Police</td>\n",
       "      <td>Dry</td>\n",
       "      <td>Single carriageway</td>\n",
       "      <td>None</td>\n",
       "      <td>30.0</td>\n",
       "      <td>00:15</td>\n",
       "      <td>Urban</td>\n",
       "      <td>Fine no high winds</td>\n",
       "      <td>2005</td>\n",
       "      <td>No</td>\n",
       "    </tr>\n",
       "    <tr>\n",
       "      <th>3</th>\n",
       "      <td>200501BS00004</td>\n",
       "      <td>A</td>\n",
       "      <td>3220.0</td>\n",
       "      <td>NaN</td>\n",
       "      <td>0.0</td>\n",
       "      <td>Slight</td>\n",
       "      <td>None</td>\n",
       "      <td>2005-01-07</td>\n",
       "      <td>Friday</td>\n",
       "      <td>1.0</td>\n",
       "      <td>...</td>\n",
       "      <td>Metropolitan Police</td>\n",
       "      <td>Dry</td>\n",
       "      <td>Single carriageway</td>\n",
       "      <td>None</td>\n",
       "      <td>30.0</td>\n",
       "      <td>10:35</td>\n",
       "      <td>Urban</td>\n",
       "      <td>Fine no high winds</td>\n",
       "      <td>2005</td>\n",
       "      <td>No</td>\n",
       "    </tr>\n",
       "    <tr>\n",
       "      <th>4</th>\n",
       "      <td>200501BS00005</td>\n",
       "      <td>Unclassified</td>\n",
       "      <td>0.0</td>\n",
       "      <td>NaN</td>\n",
       "      <td>0.0</td>\n",
       "      <td>Slight</td>\n",
       "      <td>None</td>\n",
       "      <td>2005-01-10</td>\n",
       "      <td>Monday</td>\n",
       "      <td>1.0</td>\n",
       "      <td>...</td>\n",
       "      <td>Metropolitan Police</td>\n",
       "      <td>Wet or damp</td>\n",
       "      <td>Single carriageway</td>\n",
       "      <td>None</td>\n",
       "      <td>30.0</td>\n",
       "      <td>21:13</td>\n",
       "      <td>Urban</td>\n",
       "      <td>Fine no high winds</td>\n",
       "      <td>2005</td>\n",
       "      <td>No</td>\n",
       "    </tr>\n",
       "  </tbody>\n",
       "</table>\n",
       "<p>5 rows × 34 columns</p>\n",
       "</div>"
      ],
      "text/plain": [
       "  Accident_Index 1st_Road_Class  1st_Road_Number 2nd_Road_Class  \\\n",
       "0  200501BS00001              A           3218.0            NaN   \n",
       "1  200501BS00002              B            450.0              C   \n",
       "2  200501BS00003              C              0.0            NaN   \n",
       "3  200501BS00004              A           3220.0            NaN   \n",
       "4  200501BS00005   Unclassified              0.0            NaN   \n",
       "\n",
       "   2nd_Road_Number Accident_Severity Carriageway_Hazards        Date  \\\n",
       "0              0.0           Serious                None  2005-01-04   \n",
       "1              0.0            Slight                None  2005-01-05   \n",
       "2              0.0            Slight                None  2005-01-06   \n",
       "3              0.0            Slight                None  2005-01-07   \n",
       "4              0.0            Slight                None  2005-01-10   \n",
       "\n",
       "  Day_of_Week  Did_Police_Officer_Attend_Scene_of_Accident  ...  \\\n",
       "0     Tuesday                                          1.0  ...   \n",
       "1   Wednesday                                          1.0  ...   \n",
       "2    Thursday                                          1.0  ...   \n",
       "3      Friday                                          1.0  ...   \n",
       "4      Monday                                          1.0  ...   \n",
       "\n",
       "          Police_Force Road_Surface_Conditions           Road_Type  \\\n",
       "0  Metropolitan Police             Wet or damp  Single carriageway   \n",
       "1  Metropolitan Police                     Dry    Dual carriageway   \n",
       "2  Metropolitan Police                     Dry  Single carriageway   \n",
       "3  Metropolitan Police                     Dry  Single carriageway   \n",
       "4  Metropolitan Police             Wet or damp  Single carriageway   \n",
       "\n",
       "  Special_Conditions_at_Site Speed_limit   Time  Urban_or_Rural_Area  \\\n",
       "0                       None        30.0  17:42                Urban   \n",
       "1                       None        30.0  17:36                Urban   \n",
       "2                       None        30.0  00:15                Urban   \n",
       "3                       None        30.0  10:35                Urban   \n",
       "4                       None        30.0  21:13                Urban   \n",
       "\n",
       "      Weather_Conditions  Year InScotland  \n",
       "0  Raining no high winds  2005         No  \n",
       "1     Fine no high winds  2005         No  \n",
       "2     Fine no high winds  2005         No  \n",
       "3     Fine no high winds  2005         No  \n",
       "4     Fine no high winds  2005         No  \n",
       "\n",
       "[5 rows x 34 columns]"
      ]
     },
     "execution_count": 96,
     "metadata": {},
     "output_type": "execute_result"
    }
   ],
   "source": [
    "acc_df.head()"
   ]
  },
  {
   "cell_type": "code",
   "execution_count": 97,
   "metadata": {},
   "outputs": [
    {
     "data": {
      "text/plain": [
       "(2047256, 34)"
      ]
     },
     "execution_count": 97,
     "metadata": {},
     "output_type": "execute_result"
    }
   ],
   "source": [
    "acc_df.shape"
   ]
  },
  {
   "cell_type": "code",
   "execution_count": 98,
   "metadata": {},
   "outputs": [
    {
     "name": "stdout",
     "output_type": "stream",
     "text": [
      "<class 'pandas.core.frame.DataFrame'>\n",
      "RangeIndex: 2047256 entries, 0 to 2047255\n",
      "Data columns (total 34 columns):\n",
      " #   Column                                       Dtype  \n",
      "---  ------                                       -----  \n",
      " 0   Accident_Index                               object \n",
      " 1   1st_Road_Class                               object \n",
      " 2   1st_Road_Number                              float64\n",
      " 3   2nd_Road_Class                               object \n",
      " 4   2nd_Road_Number                              float64\n",
      " 5   Accident_Severity                            object \n",
      " 6   Carriageway_Hazards                          object \n",
      " 7   Date                                         object \n",
      " 8   Day_of_Week                                  object \n",
      " 9   Did_Police_Officer_Attend_Scene_of_Accident  float64\n",
      " 10  Junction_Control                             object \n",
      " 11  Junction_Detail                              object \n",
      " 12  Latitude                                     float64\n",
      " 13  Light_Conditions                             object \n",
      " 14  Local_Authority_(District)                   object \n",
      " 15  Local_Authority_(Highway)                    object \n",
      " 16  Location_Easting_OSGR                        float64\n",
      " 17  Location_Northing_OSGR                       float64\n",
      " 18  Longitude                                    float64\n",
      " 19  LSOA_of_Accident_Location                    object \n",
      " 20  Number_of_Casualties                         int64  \n",
      " 21  Number_of_Vehicles                           int64  \n",
      " 22  Pedestrian_Crossing-Human_Control            float64\n",
      " 23  Pedestrian_Crossing-Physical_Facilities      float64\n",
      " 24  Police_Force                                 object \n",
      " 25  Road_Surface_Conditions                      object \n",
      " 26  Road_Type                                    object \n",
      " 27  Special_Conditions_at_Site                   object \n",
      " 28  Speed_limit                                  float64\n",
      " 29  Time                                         object \n",
      " 30  Urban_or_Rural_Area                          object \n",
      " 31  Weather_Conditions                           object \n",
      " 32  Year                                         int64  \n",
      " 33  InScotland                                   object \n",
      "dtypes: float64(10), int64(3), object(21)\n",
      "memory usage: 531.1+ MB\n"
     ]
    }
   ],
   "source": [
    "acc_df.info()"
   ]
  },
  {
   "cell_type": "code",
   "execution_count": 99,
   "metadata": {},
   "outputs": [
    {
     "data": {
      "text/html": [
       "<div>\n",
       "<style scoped>\n",
       "    .dataframe tbody tr th:only-of-type {\n",
       "        vertical-align: middle;\n",
       "    }\n",
       "\n",
       "    .dataframe tbody tr th {\n",
       "        vertical-align: top;\n",
       "    }\n",
       "\n",
       "    .dataframe thead th {\n",
       "        text-align: right;\n",
       "    }\n",
       "</style>\n",
       "<table border=\"1\" class=\"dataframe\">\n",
       "  <thead>\n",
       "    <tr style=\"text-align: right;\">\n",
       "      <th></th>\n",
       "      <th>1st_Road_Number</th>\n",
       "      <th>2nd_Road_Number</th>\n",
       "      <th>Did_Police_Officer_Attend_Scene_of_Accident</th>\n",
       "      <th>Latitude</th>\n",
       "      <th>Location_Easting_OSGR</th>\n",
       "      <th>Location_Northing_OSGR</th>\n",
       "      <th>Longitude</th>\n",
       "      <th>Number_of_Casualties</th>\n",
       "      <th>Number_of_Vehicles</th>\n",
       "      <th>Pedestrian_Crossing-Human_Control</th>\n",
       "      <th>Pedestrian_Crossing-Physical_Facilities</th>\n",
       "      <th>Speed_limit</th>\n",
       "      <th>Year</th>\n",
       "    </tr>\n",
       "  </thead>\n",
       "  <tbody>\n",
       "    <tr>\n",
       "      <th>count</th>\n",
       "      <td>2.047254e+06</td>\n",
       "      <td>2.029663e+06</td>\n",
       "      <td>2.046978e+06</td>\n",
       "      <td>2.047082e+06</td>\n",
       "      <td>2.047092e+06</td>\n",
       "      <td>2.047092e+06</td>\n",
       "      <td>2.047081e+06</td>\n",
       "      <td>2.047256e+06</td>\n",
       "      <td>2.047256e+06</td>\n",
       "      <td>2.044336e+06</td>\n",
       "      <td>2.043696e+06</td>\n",
       "      <td>2.047219e+06</td>\n",
       "      <td>2.047256e+06</td>\n",
       "    </tr>\n",
       "    <tr>\n",
       "      <th>mean</th>\n",
       "      <td>9.921051e+02</td>\n",
       "      <td>3.728153e+02</td>\n",
       "      <td>1.202319e+00</td>\n",
       "      <td>5.255978e+01</td>\n",
       "      <td>4.414462e+05</td>\n",
       "      <td>2.968855e+05</td>\n",
       "      <td>-1.410155e+00</td>\n",
       "      <td>1.345843e+00</td>\n",
       "      <td>1.833525e+00</td>\n",
       "      <td>1.041707e-02</td>\n",
       "      <td>7.518021e-01</td>\n",
       "      <td>3.884360e+01</td>\n",
       "      <td>2.010524e+03</td>\n",
       "    </tr>\n",
       "    <tr>\n",
       "      <th>std</th>\n",
       "      <td>1.809408e+03</td>\n",
       "      <td>1.287796e+03</td>\n",
       "      <td>4.081935e-01</td>\n",
       "      <td>1.445506e+00</td>\n",
       "      <td>9.549620e+04</td>\n",
       "      <td>1.605273e+05</td>\n",
       "      <td>1.403532e+00</td>\n",
       "      <td>8.179627e-01</td>\n",
       "      <td>7.150543e-01</td>\n",
       "      <td>1.351126e-01</td>\n",
       "      <td>1.835289e+00</td>\n",
       "      <td>1.414791e+01</td>\n",
       "      <td>3.765624e+00</td>\n",
       "    </tr>\n",
       "    <tr>\n",
       "      <th>min</th>\n",
       "      <td>0.000000e+00</td>\n",
       "      <td>0.000000e+00</td>\n",
       "      <td>1.000000e+00</td>\n",
       "      <td>4.991294e+01</td>\n",
       "      <td>6.495000e+04</td>\n",
       "      <td>1.029000e+04</td>\n",
       "      <td>-7.516225e+00</td>\n",
       "      <td>1.000000e+00</td>\n",
       "      <td>1.000000e+00</td>\n",
       "      <td>0.000000e+00</td>\n",
       "      <td>0.000000e+00</td>\n",
       "      <td>0.000000e+00</td>\n",
       "      <td>2.005000e+03</td>\n",
       "    </tr>\n",
       "    <tr>\n",
       "      <th>25%</th>\n",
       "      <td>0.000000e+00</td>\n",
       "      <td>0.000000e+00</td>\n",
       "      <td>1.000000e+00</td>\n",
       "      <td>5.148540e+01</td>\n",
       "      <td>3.780635e+05</td>\n",
       "      <td>1.777568e+05</td>\n",
       "      <td>-2.329610e+00</td>\n",
       "      <td>1.000000e+00</td>\n",
       "      <td>1.000000e+00</td>\n",
       "      <td>0.000000e+00</td>\n",
       "      <td>0.000000e+00</td>\n",
       "      <td>3.000000e+01</td>\n",
       "      <td>2.007000e+03</td>\n",
       "    </tr>\n",
       "    <tr>\n",
       "      <th>50%</th>\n",
       "      <td>1.180000e+02</td>\n",
       "      <td>0.000000e+00</td>\n",
       "      <td>1.000000e+00</td>\n",
       "      <td>5.223758e+01</td>\n",
       "      <td>4.430500e+05</td>\n",
       "      <td>2.611835e+05</td>\n",
       "      <td>-1.362233e+00</td>\n",
       "      <td>1.000000e+00</td>\n",
       "      <td>2.000000e+00</td>\n",
       "      <td>0.000000e+00</td>\n",
       "      <td>0.000000e+00</td>\n",
       "      <td>3.000000e+01</td>\n",
       "      <td>2.010000e+03</td>\n",
       "    </tr>\n",
       "    <tr>\n",
       "      <th>75%</th>\n",
       "      <td>7.020000e+02</td>\n",
       "      <td>0.000000e+00</td>\n",
       "      <td>1.000000e+00</td>\n",
       "      <td>5.345590e+01</td>\n",
       "      <td>5.242982e+05</td>\n",
       "      <td>3.956100e+05</td>\n",
       "      <td>-2.052600e-01</td>\n",
       "      <td>1.000000e+00</td>\n",
       "      <td>2.000000e+00</td>\n",
       "      <td>0.000000e+00</td>\n",
       "      <td>0.000000e+00</td>\n",
       "      <td>5.000000e+01</td>\n",
       "      <td>2.014000e+03</td>\n",
       "    </tr>\n",
       "    <tr>\n",
       "      <th>max</th>\n",
       "      <td>9.999000e+03</td>\n",
       "      <td>9.999000e+03</td>\n",
       "      <td>3.000000e+00</td>\n",
       "      <td>6.075754e+01</td>\n",
       "      <td>6.555400e+05</td>\n",
       "      <td>1.208800e+06</td>\n",
       "      <td>1.762010e+00</td>\n",
       "      <td>9.300000e+01</td>\n",
       "      <td>6.700000e+01</td>\n",
       "      <td>2.000000e+00</td>\n",
       "      <td>8.000000e+00</td>\n",
       "      <td>7.000000e+01</td>\n",
       "      <td>2.017000e+03</td>\n",
       "    </tr>\n",
       "  </tbody>\n",
       "</table>\n",
       "</div>"
      ],
      "text/plain": [
       "       1st_Road_Number  2nd_Road_Number  \\\n",
       "count     2.047254e+06     2.029663e+06   \n",
       "mean      9.921051e+02     3.728153e+02   \n",
       "std       1.809408e+03     1.287796e+03   \n",
       "min       0.000000e+00     0.000000e+00   \n",
       "25%       0.000000e+00     0.000000e+00   \n",
       "50%       1.180000e+02     0.000000e+00   \n",
       "75%       7.020000e+02     0.000000e+00   \n",
       "max       9.999000e+03     9.999000e+03   \n",
       "\n",
       "       Did_Police_Officer_Attend_Scene_of_Accident      Latitude  \\\n",
       "count                                 2.046978e+06  2.047082e+06   \n",
       "mean                                  1.202319e+00  5.255978e+01   \n",
       "std                                   4.081935e-01  1.445506e+00   \n",
       "min                                   1.000000e+00  4.991294e+01   \n",
       "25%                                   1.000000e+00  5.148540e+01   \n",
       "50%                                   1.000000e+00  5.223758e+01   \n",
       "75%                                   1.000000e+00  5.345590e+01   \n",
       "max                                   3.000000e+00  6.075754e+01   \n",
       "\n",
       "       Location_Easting_OSGR  Location_Northing_OSGR     Longitude  \\\n",
       "count           2.047092e+06            2.047092e+06  2.047081e+06   \n",
       "mean            4.414462e+05            2.968855e+05 -1.410155e+00   \n",
       "std             9.549620e+04            1.605273e+05  1.403532e+00   \n",
       "min             6.495000e+04            1.029000e+04 -7.516225e+00   \n",
       "25%             3.780635e+05            1.777568e+05 -2.329610e+00   \n",
       "50%             4.430500e+05            2.611835e+05 -1.362233e+00   \n",
       "75%             5.242982e+05            3.956100e+05 -2.052600e-01   \n",
       "max             6.555400e+05            1.208800e+06  1.762010e+00   \n",
       "\n",
       "       Number_of_Casualties  Number_of_Vehicles  \\\n",
       "count          2.047256e+06        2.047256e+06   \n",
       "mean           1.345843e+00        1.833525e+00   \n",
       "std            8.179627e-01        7.150543e-01   \n",
       "min            1.000000e+00        1.000000e+00   \n",
       "25%            1.000000e+00        1.000000e+00   \n",
       "50%            1.000000e+00        2.000000e+00   \n",
       "75%            1.000000e+00        2.000000e+00   \n",
       "max            9.300000e+01        6.700000e+01   \n",
       "\n",
       "       Pedestrian_Crossing-Human_Control  \\\n",
       "count                       2.044336e+06   \n",
       "mean                        1.041707e-02   \n",
       "std                         1.351126e-01   \n",
       "min                         0.000000e+00   \n",
       "25%                         0.000000e+00   \n",
       "50%                         0.000000e+00   \n",
       "75%                         0.000000e+00   \n",
       "max                         2.000000e+00   \n",
       "\n",
       "       Pedestrian_Crossing-Physical_Facilities   Speed_limit          Year  \n",
       "count                             2.043696e+06  2.047219e+06  2.047256e+06  \n",
       "mean                              7.518021e-01  3.884360e+01  2.010524e+03  \n",
       "std                               1.835289e+00  1.414791e+01  3.765624e+00  \n",
       "min                               0.000000e+00  0.000000e+00  2.005000e+03  \n",
       "25%                               0.000000e+00  3.000000e+01  2.007000e+03  \n",
       "50%                               0.000000e+00  3.000000e+01  2.010000e+03  \n",
       "75%                               0.000000e+00  5.000000e+01  2.014000e+03  \n",
       "max                               8.000000e+00  7.000000e+01  2.017000e+03  "
      ]
     },
     "execution_count": 99,
     "metadata": {},
     "output_type": "execute_result"
    }
   ],
   "source": [
    "acc_df.describe()"
   ]
  },
  {
   "cell_type": "code",
   "execution_count": 100,
   "metadata": {},
   "outputs": [
    {
     "data": {
      "text/plain": [
       "Accident_Index                                      0\n",
       "1st_Road_Class                                      0\n",
       "1st_Road_Number                                     2\n",
       "2nd_Road_Class                                 844272\n",
       "2nd_Road_Number                                 17593\n",
       "Accident_Severity                                   0\n",
       "Carriageway_Hazards                                 0\n",
       "Date                                                0\n",
       "Day_of_Week                                         0\n",
       "Did_Police_Officer_Attend_Scene_of_Accident       278\n",
       "Junction_Control                                    0\n",
       "Junction_Detail                                     0\n",
       "Latitude                                          174\n",
       "Light_Conditions                                    0\n",
       "Local_Authority_(District)                          0\n",
       "Local_Authority_(Highway)                           0\n",
       "Location_Easting_OSGR                             164\n",
       "Location_Northing_OSGR                            164\n",
       "Longitude                                         175\n",
       "LSOA_of_Accident_Location                      144953\n",
       "Number_of_Casualties                                0\n",
       "Number_of_Vehicles                                  0\n",
       "Pedestrian_Crossing-Human_Control                2920\n",
       "Pedestrian_Crossing-Physical_Facilities          3560\n",
       "Police_Force                                        0\n",
       "Road_Surface_Conditions                             0\n",
       "Road_Type                                           0\n",
       "Special_Conditions_at_Site                          0\n",
       "Speed_limit                                        37\n",
       "Time                                              156\n",
       "Urban_or_Rural_Area                                 0\n",
       "Weather_Conditions                                  0\n",
       "Year                                                0\n",
       "InScotland                                         53\n",
       "dtype: int64"
      ]
     },
     "execution_count": 100,
     "metadata": {},
     "output_type": "execute_result"
    }
   ],
   "source": [
    "acc_df.isnull().sum()"
   ]
  },
  {
   "cell_type": "markdown",
   "metadata": {},
   "source": [
    "## **1)Handling missing values**"
   ]
  },
  {
   "cell_type": "markdown",
   "metadata": {},
   "source": [
    "##### **2nd_Road_Class**\n",
    "\n",
    "Since 2nd road class has 844000 missing values, we can use other data to fill in some of the missing values. We know that if the road number is 0.0 that is mean the class if either unclassified or C. and based on the data in 1st class roads, we know that 30% were unclassified andn 8% were C, so we can use this data to fill in data for 2nd class where the number is 0, substituting in either unlcassified or C randonmly in a 30:8 ratio.\n"
   ]
  },
  {
   "cell_type": "code",
   "execution_count": 101,
   "metadata": {},
   "outputs": [],
   "source": [
    "# Create a boolean mask for the rows with missing 2nd_Road_Class and 2nd_Road_Number equals 0\n",
    "mask = (acc_df['2nd_Road_Class'].isnull()) & (acc_df['2nd_Road_Number'] == 0)\n",
    "\n",
    "# Calculate the number of rows that meet the condition\n",
    "num_rows = mask.sum()\n",
    "\n",
    "# Assign the \"C\" and \"Unclassified\" values based on the proportion (21% \"C\" and 79% \"Unclassified\")\n",
    "num_c = int(num_rows * 0.21)\n",
    "num_unclassified = num_rows - num_c\n",
    "new_values = ['C'] * num_c + ['Unclassified'] * num_unclassified\n",
    "\n",
    "# Shuffle the new values to introduce randomness\n",
    "np.random.shuffle(new_values)\n",
    "\n",
    "# Update the 2nd_Road_Class values for the masked rows\n",
    "acc_df.loc[mask, '2nd_Road_Class'] = new_values\n"
   ]
  },
  {
   "cell_type": "code",
   "execution_count": 102,
   "metadata": {},
   "outputs": [
    {
     "name": "stdout",
     "output_type": "stream",
     "text": [
      "17562\n",
      "17593\n"
     ]
    }
   ],
   "source": [
    "print(acc_df['2nd_Road_Class'].isnull().sum())\n",
    "print(acc_df['2nd_Road_Number'].isnull().sum())"
   ]
  },
  {
   "cell_type": "markdown",
   "metadata": {},
   "source": [
    "Now that missing values in 2nd class where 2nd road number was 0, we have roughly the same (17000) missing values for each left. This leads me to assume that this is not a mistake in data entry but indicates that there was no second road involved in the accident. So these rows can be substituted in with 'Not Applicable'."
   ]
  },
  {
   "cell_type": "code",
   "execution_count": 103,
   "metadata": {},
   "outputs": [],
   "source": [
    "acc_df['2nd_Road_Class'].fillna('Not Applicable', inplace=True)\n",
    "acc_df['2nd_Road_Number'].fillna('Not Applicable', inplace=True)"
   ]
  },
  {
   "cell_type": "markdown",
   "metadata": {},
   "source": [
    "##### **Location Columns**\n",
    "\n",
    "since the latitude and longitude columns provide the same locational data as the easting and northing OSGR, as lat and long is more universally used we can safely drop the easting and northing OSGR columns"
   ]
  },
  {
   "cell_type": "code",
   "execution_count": 104,
   "metadata": {},
   "outputs": [],
   "source": [
    "acc_df.drop(['Location_Easting_OSGR','Location_Northing_OSGR'], axis=1, inplace=True)"
   ]
  },
  {
   "cell_type": "markdown",
   "metadata": {},
   "source": [
    "Handling the 144000 missing values from LSOA column:\n",
    "\n",
    "Initial assumption would be that since there are 144000 misisng values in LSOA and there are 133000 'InScotland' 'Yes' rows that the misisng values mean that they are accidents that took place in scotland. To confirm this we can check how many rows contain both a missing value for LSOA and have 'Yes' for 'InScotland'. "
   ]
  },
  {
   "cell_type": "code",
   "execution_count": 105,
   "metadata": {},
   "outputs": [
    {
     "name": "stdout",
     "output_type": "stream",
     "text": [
      "133932\n"
     ]
    }
   ],
   "source": [
    "missing_lsoa_in_scotland = acc_df.loc[acc_df['LSOA_of_Accident_Location'].isna() & (acc_df['InScotland'] == 'Yes')]\n",
    "print(len(missing_lsoa_in_scotland))"
   ]
  },
  {
   "cell_type": "markdown",
   "metadata": {},
   "source": [
    "We can see that 133932 rows contain both missing LSOA and Yes inscotland values, confirming that the missing values mean that they are in scotland for the majority. So for these rows we can substitue in 'Scotland'"
   ]
  },
  {
   "cell_type": "code",
   "execution_count": 106,
   "metadata": {},
   "outputs": [],
   "source": [
    "acc_df.loc[acc_df['InScotland'] == 'Yes', 'LSOA_of_Accident_Location'] = acc_df.loc[acc_df['InScotland'] == 'Yes', 'LSOA_of_Accident_Location'].fillna('SCT')"
   ]
  },
  {
   "cell_type": "code",
   "execution_count": 107,
   "metadata": {},
   "outputs": [
    {
     "data": {
      "text/plain": [
       "SCT          133932\n",
       "E01000004      2367\n",
       "E01004736      1838\n",
       "E01011365      1503\n",
       "E01032739      1106\n",
       "              ...  \n",
       "E01003044         1\n",
       "E01029868         1\n",
       "E01032556         1\n",
       "E01033717         1\n",
       "E01032701         1\n",
       "Name: LSOA_of_Accident_Location, Length: 35565, dtype: int64"
      ]
     },
     "execution_count": 107,
     "metadata": {},
     "output_type": "execute_result"
    }
   ],
   "source": [
    "acc_df['LSOA_of_Accident_Location'].value_counts()"
   ]
  },
  {
   "cell_type": "markdown",
   "metadata": {},
   "source": [
    "##### **Pedestrian_Crossing**\n"
   ]
  },
  {
   "cell_type": "code",
   "execution_count": 108,
   "metadata": {},
   "outputs": [],
   "source": [
    "acc_df['Pedestrian_Crossing-Human_Control'] = acc_df['Pedestrian_Crossing-Human_Control'].fillna(9)\n",
    "acc_df['Pedestrian_Crossing-Physical_Facilities'] = acc_df['Pedestrian_Crossing-Physical_Facilities'].fillna(9)"
   ]
  },
  {
   "cell_type": "code",
   "execution_count": 109,
   "metadata": {},
   "outputs": [
    {
     "data": {
      "text/plain": [
       "Accident_Index                                     0\n",
       "1st_Road_Class                                     0\n",
       "1st_Road_Number                                    2\n",
       "2nd_Road_Class                                     0\n",
       "2nd_Road_Number                                    0\n",
       "Accident_Severity                                  0\n",
       "Carriageway_Hazards                                0\n",
       "Date                                               0\n",
       "Day_of_Week                                        0\n",
       "Did_Police_Officer_Attend_Scene_of_Accident      278\n",
       "Junction_Control                                   0\n",
       "Junction_Detail                                    0\n",
       "Latitude                                         174\n",
       "Light_Conditions                                   0\n",
       "Local_Authority_(District)                         0\n",
       "Local_Authority_(Highway)                          0\n",
       "Longitude                                        175\n",
       "LSOA_of_Accident_Location                      11021\n",
       "Number_of_Casualties                               0\n",
       "Number_of_Vehicles                                 0\n",
       "Pedestrian_Crossing-Human_Control                  0\n",
       "Pedestrian_Crossing-Physical_Facilities            0\n",
       "Police_Force                                       0\n",
       "Road_Surface_Conditions                            0\n",
       "Road_Type                                          0\n",
       "Special_Conditions_at_Site                         0\n",
       "Speed_limit                                       37\n",
       "Time                                             156\n",
       "Urban_or_Rural_Area                                0\n",
       "Weather_Conditions                                 0\n",
       "Year                                               0\n",
       "InScotland                                        53\n",
       "dtype: int64"
      ]
     },
     "execution_count": 109,
     "metadata": {},
     "output_type": "execute_result"
    }
   ],
   "source": [
    "acc_df.isnull().sum()"
   ]
  },
  {
   "cell_type": "markdown",
   "metadata": {},
   "source": [
    "##### **1st_Road_Number**\n",
    "Finding the mode and substituting the 2 missing values with it"
   ]
  },
  {
   "cell_type": "code",
   "execution_count": 110,
   "metadata": {},
   "outputs": [],
   "source": [
    "mode = acc_df['1st_Road_Number'].mode()[0]\n",
    "acc_df['1st_Road_Number'] = acc_df['1st_Road_Number'].fillna(mode)"
   ]
  },
  {
   "cell_type": "markdown",
   "metadata": {},
   "source": [
    "##### **Did_Police_Officer_Attend_Scene_of_Accident**\n",
    "Finding mode again and imputing it"
   ]
  },
  {
   "cell_type": "code",
   "execution_count": 111,
   "metadata": {},
   "outputs": [],
   "source": [
    "mode = acc_df['Did_Police_Officer_Attend_Scene_of_Accident'].mode()[0]\n",
    "acc_df['Did_Police_Officer_Attend_Scene_of_Accident'] = acc_df['Did_Police_Officer_Attend_Scene_of_Accident'].fillna(mode)"
   ]
  },
  {
   "cell_type": "markdown",
   "metadata": {},
   "source": [
    "##### **Latitude and Longitude**\n",
    "Creating a dictionary containing the mean or median latitude and longitude values for each Local Authority. Then, for each row with missing latitude and longitude values,use the corresponding Local Authority to fill in the missing values."
   ]
  },
  {
   "cell_type": "code",
   "execution_count": 112,
   "metadata": {},
   "outputs": [],
   "source": [
    "# Calculating the mean latitude and longitude for each Local Authority\n",
    "mean_lat_long_by_local_authority = acc_df.groupby('Local_Authority_(District)').agg({'Latitude': 'mean', 'Longitude': 'mean'}).reset_index()\n",
    "\n",
    "local_authority_lat_long_dict = dict()\n",
    "\n",
    "for _, row in mean_lat_long_by_local_authority.iterrows():\n",
    "    local_authority_lat_long_dict[row['Local_Authority_(District)']] = (row['Latitude'], row['Longitude'])\n",
    "\n",
    "def fill_missing_lat_long(row, lat_long_dict):\n",
    "    if pd.isna(row['Latitude']) or pd.isna(row['Longitude']):\n",
    "        lat, long = lat_long_dict.get(row['Local_Authority_(District)'], (np.nan, np.nan))\n",
    "        row['Latitude'] = lat\n",
    "        row['Longitude'] = long\n",
    "    return row\n",
    "\n",
    "acc_df = acc_df.apply(lambda row: fill_missing_lat_long(row, local_authority_lat_long_dict), axis=1)"
   ]
  },
  {
   "cell_type": "markdown",
   "metadata": {},
   "source": [
    "##### **LSOA_of_Accident_Location**\n",
    "Imputing the missing LSOA values based on the mode of LSOA within the same Local Authority."
   ]
  },
  {
   "cell_type": "code",
   "execution_count": 113,
   "metadata": {},
   "outputs": [],
   "source": [
    "mode_lsoa_by_local_authority = acc_df.groupby('Local_Authority_(District)').agg({'LSOA_of_Accident_Location': lambda x: x.mode().iloc[0] if len(x.mode()) > 0 else np.nan}).reset_index()\n",
    "\n",
    "local_authority_lsoa_dict = dict()\n",
    "\n",
    "for _, row in mode_lsoa_by_local_authority.iterrows():\n",
    "    local_authority_lsoa_dict[row['Local_Authority_(District)']] = row['LSOA_of_Accident_Location']\n",
    "\n",
    "def fill_missing_lsoa(row, lsoa_dict):\n",
    "    if pd.isna(row['LSOA_of_Accident_Location']):\n",
    "        lsoa = lsoa_dict.get(row['Local_Authority_(District)'], np.nan)\n",
    "        row['LSOA_of_Accident_Location'] = lsoa\n",
    "    return row\n",
    "\n",
    "acc_df = acc_df.apply(lambda row: fill_missing_lsoa(row, local_authority_lsoa_dict), axis=1)"
   ]
  },
  {
   "cell_type": "markdown",
   "metadata": {},
   "source": [
    "##### **Speed_limit**\n",
    "Determining the averge speed (to the nearest 10) of each of the road classes, then assign the speed limt to the rows misisng the values based on what the 1st road class was in that row missing the spoeed limit. "
   ]
  },
  {
   "cell_type": "code",
   "execution_count": 114,
   "metadata": {},
   "outputs": [
    {
     "data": {
      "text/html": [
       "<div>\n",
       "<style scoped>\n",
       "    .dataframe tbody tr th:only-of-type {\n",
       "        vertical-align: middle;\n",
       "    }\n",
       "\n",
       "    .dataframe tbody tr th {\n",
       "        vertical-align: top;\n",
       "    }\n",
       "\n",
       "    .dataframe thead th {\n",
       "        text-align: right;\n",
       "    }\n",
       "</style>\n",
       "<table border=\"1\" class=\"dataframe\">\n",
       "  <thead>\n",
       "    <tr style=\"text-align: right;\">\n",
       "      <th></th>\n",
       "      <th>1st_Road_Class</th>\n",
       "      <th>Speed_limit</th>\n",
       "    </tr>\n",
       "  </thead>\n",
       "  <tbody>\n",
       "    <tr>\n",
       "      <th>0</th>\n",
       "      <td>A</td>\n",
       "      <td>30.0</td>\n",
       "    </tr>\n",
       "    <tr>\n",
       "      <th>1</th>\n",
       "      <td>A(M)</td>\n",
       "      <td>70.0</td>\n",
       "    </tr>\n",
       "    <tr>\n",
       "      <th>2</th>\n",
       "      <td>B</td>\n",
       "      <td>30.0</td>\n",
       "    </tr>\n",
       "    <tr>\n",
       "      <th>3</th>\n",
       "      <td>C</td>\n",
       "      <td>30.0</td>\n",
       "    </tr>\n",
       "    <tr>\n",
       "      <th>4</th>\n",
       "      <td>Motorway</td>\n",
       "      <td>70.0</td>\n",
       "    </tr>\n",
       "    <tr>\n",
       "      <th>5</th>\n",
       "      <td>Unclassified</td>\n",
       "      <td>30.0</td>\n",
       "    </tr>\n",
       "  </tbody>\n",
       "</table>\n",
       "</div>"
      ],
      "text/plain": [
       "  1st_Road_Class  Speed_limit\n",
       "0              A         30.0\n",
       "1           A(M)         70.0\n",
       "2              B         30.0\n",
       "3              C         30.0\n",
       "4       Motorway         70.0\n",
       "5   Unclassified         30.0"
      ]
     },
     "execution_count": 114,
     "metadata": {},
     "output_type": "execute_result"
    }
   ],
   "source": [
    "# calculating mode speed limit for each road class\n",
    "mode_speed_limit_by_road_class = acc_df.groupby('1st_Road_Class').agg({'Speed_limit': lambda x: x.mode().iloc[0] if len(x.mode()) > 0 else np.nan}).reset_index()\n",
    "mode_speed_limit_by_road_class"
   ]
  },
  {
   "cell_type": "code",
   "execution_count": 115,
   "metadata": {},
   "outputs": [],
   "source": [
    "# Creating a dictionary containing the mode Speed_limit for each 1st_Road_Class\n",
    "road_class_speed_limit_dict = dict()\n",
    "\n",
    "for _, row in mode_speed_limit_by_road_class.iterrows():\n",
    "    road_class_speed_limit_dict[row['1st_Road_Class']] = row['Speed_limit']\n",
    "\n",
    "# function to fill missing Speed_limit values based on the 1st_Road_Class\n",
    "def fill_missing_speed_limit(row, speed_limit_dict):\n",
    "    if pd.isna(row['Speed_limit']):\n",
    "        speed_limit = speed_limit_dict.get(row['1st_Road_Class'], np.nan)\n",
    "        row['Speed_limit'] = speed_limit\n",
    "    return row\n",
    "\n",
    "# applying to acc_df\n",
    "acc_df = acc_df.apply(lambda row: fill_missing_speed_limit(row, road_class_speed_limit_dict), axis=1)"
   ]
  },
  {
   "cell_type": "markdown",
   "metadata": {},
   "source": [
    "##### **Time**\n",
    "Randomly assiging time"
   ]
  },
  {
   "cell_type": "code",
   "execution_count": 116,
   "metadata": {},
   "outputs": [],
   "source": [
    "import random\n",
    "from datetime import time\n",
    "\n",
    "def random_time_string():\n",
    "    random_hour = random.randint(0, 23)\n",
    "    random_minute = random.randint(0, 59)\n",
    "    return f\"{random_hour:02d}:{random_minute:02d}\"\n",
    "\n",
    "acc_df['Time'] = acc_df['Time'].apply(lambda x: random_time_string() if pd.isna(x) else x)\n"
   ]
  },
  {
   "cell_type": "markdown",
   "metadata": {},
   "source": [
    "##### **InScotland**\n",
    "checking first if the rows in which InScotland is missing that LSOA_of_Accident_Location is present, and if so then it means that it is not in scotland as LSOA only applies to england and wales, there fore nan values can be imputed for 'No'"
   ]
  },
  {
   "cell_type": "code",
   "execution_count": 117,
   "metadata": {},
   "outputs": [
    {
     "name": "stdout",
     "output_type": "stream",
     "text": [
      "53\n"
     ]
    }
   ],
   "source": [
    "not_missing_lsoa_in_scotland = acc_df.loc[(acc_df['LSOA_of_Accident_Location'].notna()) & (acc_df['InScotland'].isna())]\n",
    "print(len(not_missing_lsoa_in_scotland))"
   ]
  },
  {
   "cell_type": "markdown",
   "metadata": {},
   "source": [
    "all 53 of the missing InScotland values occur in rows where LSOA is present, therefore missing values can be changed to 'No'"
   ]
  },
  {
   "cell_type": "code",
   "execution_count": 118,
   "metadata": {},
   "outputs": [],
   "source": [
    "acc_df['InScotland'].fillna('No', inplace = True)"
   ]
  },
  {
   "cell_type": "markdown",
   "metadata": {},
   "source": [
    "#### Checking all missing values have been handled..."
   ]
  },
  {
   "cell_type": "code",
   "execution_count": 119,
   "metadata": {},
   "outputs": [
    {
     "data": {
      "text/plain": [
       "Accident_Index                                 0\n",
       "1st_Road_Class                                 0\n",
       "1st_Road_Number                                0\n",
       "2nd_Road_Class                                 0\n",
       "2nd_Road_Number                                0\n",
       "Accident_Severity                              0\n",
       "Carriageway_Hazards                            0\n",
       "Date                                           0\n",
       "Day_of_Week                                    0\n",
       "Did_Police_Officer_Attend_Scene_of_Accident    0\n",
       "Junction_Control                               0\n",
       "Junction_Detail                                0\n",
       "Latitude                                       0\n",
       "Light_Conditions                               0\n",
       "Local_Authority_(District)                     0\n",
       "Local_Authority_(Highway)                      0\n",
       "Longitude                                      0\n",
       "LSOA_of_Accident_Location                      0\n",
       "Number_of_Casualties                           0\n",
       "Number_of_Vehicles                             0\n",
       "Pedestrian_Crossing-Human_Control              0\n",
       "Pedestrian_Crossing-Physical_Facilities        0\n",
       "Police_Force                                   0\n",
       "Road_Surface_Conditions                        0\n",
       "Road_Type                                      0\n",
       "Special_Conditions_at_Site                     0\n",
       "Speed_limit                                    0\n",
       "Time                                           0\n",
       "Urban_or_Rural_Area                            0\n",
       "Weather_Conditions                             0\n",
       "Year                                           0\n",
       "InScotland                                     0\n",
       "dtype: int64"
      ]
     },
     "execution_count": 119,
     "metadata": {},
     "output_type": "execute_result"
    }
   ],
   "source": [
    "acc_df.isnull().sum()"
   ]
  },
  {
   "cell_type": "markdown",
   "metadata": {},
   "source": [
    "All missing values have now successfully been handled without needing to drop any row of data :) "
   ]
  },
  {
   "cell_type": "markdown",
   "metadata": {},
   "source": [
    "## **2) Handling Data Types and Formating**"
   ]
  },
  {
   "cell_type": "code",
   "execution_count": 120,
   "metadata": {},
   "outputs": [
    {
     "data": {
      "text/plain": [
       "Accident_Index                                  object\n",
       "1st_Road_Class                                  object\n",
       "1st_Road_Number                                float64\n",
       "2nd_Road_Class                                  object\n",
       "2nd_Road_Number                                 object\n",
       "Accident_Severity                               object\n",
       "Carriageway_Hazards                             object\n",
       "Date                                            object\n",
       "Day_of_Week                                     object\n",
       "Did_Police_Officer_Attend_Scene_of_Accident    float64\n",
       "Junction_Control                                object\n",
       "Junction_Detail                                 object\n",
       "Latitude                                       float64\n",
       "Light_Conditions                                object\n",
       "Local_Authority_(District)                      object\n",
       "Local_Authority_(Highway)                       object\n",
       "Longitude                                      float64\n",
       "LSOA_of_Accident_Location                       object\n",
       "Number_of_Casualties                             int64\n",
       "Number_of_Vehicles                               int64\n",
       "Pedestrian_Crossing-Human_Control              float64\n",
       "Pedestrian_Crossing-Physical_Facilities        float64\n",
       "Police_Force                                    object\n",
       "Road_Surface_Conditions                         object\n",
       "Road_Type                                       object\n",
       "Special_Conditions_at_Site                      object\n",
       "Speed_limit                                    float64\n",
       "Time                                            object\n",
       "Urban_or_Rural_Area                             object\n",
       "Weather_Conditions                              object\n",
       "Year                                             int64\n",
       "InScotland                                      object\n",
       "dtype: object"
      ]
     },
     "execution_count": 120,
     "metadata": {},
     "output_type": "execute_result"
    }
   ],
   "source": [
    "acc_df.dtypes"
   ]
  },
  {
   "cell_type": "code",
   "execution_count": 121,
   "metadata": {},
   "outputs": [],
   "source": [
    "# Convert Date to datetime\n",
    "acc_df['Date'] = pd.to_datetime(acc_df['Date'])\n",
    "\n",
    "# Convert 1st_Road_Number and 2nd_Road_Number to int\n",
    "acc_df['1st_Road_Number'] = acc_df['1st_Road_Number'].astype(int)\n",
    "# Replace non-numeric values in the '2nd_Road_Number' column with -1\n",
    "acc_df['2nd_Road_Number'] = pd.to_numeric(acc_df['2nd_Road_Number'], errors='coerce').fillna(-1)\n",
    "# Convert '2nd_Road_Number' to int\n",
    "acc_df['2nd_Road_Number'] = acc_df['2nd_Road_Number'].astype(int)"
   ]
  },
  {
   "cell_type": "code",
   "execution_count": 122,
   "metadata": {},
   "outputs": [],
   "source": [
    "# Convert 'Time' to datetime\n",
    "acc_df['Time'] = pd.to_datetime(acc_df['Time'], format='%H:%M')\n",
    "\n",
    "# Extract the time part\n",
    "acc_df['Time'] = acc_df['Time'].dt.time"
   ]
  },
  {
   "cell_type": "code",
   "execution_count": 123,
   "metadata": {},
   "outputs": [],
   "source": [
    "def convert_columns_to_categorical(df, columns):\n",
    "    for column in columns:\n",
    "        if column in df.columns:\n",
    "            df[column] = df[column].astype('category')\n",
    "    return df\n",
    "\n",
    "# List of columns to convert to 'category' data type\n",
    "columns_to_convert = [\n",
    "    '1st_Road_Class',\n",
    "    '2nd_Road_Class',\n",
    "    'Accident_Severity',\n",
    "    'Carriageway_Hazards',\n",
    "    'Day_of_Week',\n",
    "    'Did_Police_Officer_Attend_Scene_of_Accident',\n",
    "    'Junction_Control',\n",
    "    'Junction_Detail',\n",
    "    'Light_Conditions',\n",
    "    'Local_Authority_(District)',\n",
    "    'Local_Authority_(Highway)',\n",
    "    'LSOA_of_Accident_Location',\n",
    "    'Pedestrian_Crossing-Human_Control',\n",
    "    'Pedestrian_Crossing-Physical_Facilities',\n",
    "    'Police_Force',\n",
    "    'Road_Surface_Conditions',\n",
    "    'Road_Type',\n",
    "    'Special_Conditions_at_Site',\n",
    "    'Urban_or_Rural_Area',\n",
    "    'Weather_Conditions',\n",
    "    'InScotland'\n",
    "]\n",
    "\n",
    "# Convert columns to 'category' data type\n",
    "acc_df = convert_columns_to_categorical(acc_df, columns_to_convert)"
   ]
  },
  {
   "cell_type": "code",
   "execution_count": 124,
   "metadata": {},
   "outputs": [
    {
     "data": {
      "text/plain": [
       "Accident_Index                                         object\n",
       "1st_Road_Class                                       category\n",
       "1st_Road_Number                                         int64\n",
       "2nd_Road_Class                                       category\n",
       "2nd_Road_Number                                         int64\n",
       "Accident_Severity                                    category\n",
       "Carriageway_Hazards                                  category\n",
       "Date                                           datetime64[ns]\n",
       "Day_of_Week                                          category\n",
       "Did_Police_Officer_Attend_Scene_of_Accident          category\n",
       "Junction_Control                                     category\n",
       "Junction_Detail                                      category\n",
       "Latitude                                              float64\n",
       "Light_Conditions                                     category\n",
       "Local_Authority_(District)                           category\n",
       "Local_Authority_(Highway)                            category\n",
       "Longitude                                             float64\n",
       "LSOA_of_Accident_Location                            category\n",
       "Number_of_Casualties                                    int64\n",
       "Number_of_Vehicles                                      int64\n",
       "Pedestrian_Crossing-Human_Control                    category\n",
       "Pedestrian_Crossing-Physical_Facilities              category\n",
       "Police_Force                                         category\n",
       "Road_Surface_Conditions                              category\n",
       "Road_Type                                            category\n",
       "Special_Conditions_at_Site                           category\n",
       "Speed_limit                                           float64\n",
       "Time                                                   object\n",
       "Urban_or_Rural_Area                                  category\n",
       "Weather_Conditions                                   category\n",
       "Year                                                    int64\n",
       "InScotland                                           category\n",
       "dtype: object"
      ]
     },
     "execution_count": 124,
     "metadata": {},
     "output_type": "execute_result"
    }
   ],
   "source": [
    "acc_df.dtypes"
   ]
  },
  {
   "cell_type": "code",
   "execution_count": 125,
   "metadata": {},
   "outputs": [
    {
     "data": {
      "text/html": [
       "<div>\n",
       "<style scoped>\n",
       "    .dataframe tbody tr th:only-of-type {\n",
       "        vertical-align: middle;\n",
       "    }\n",
       "\n",
       "    .dataframe tbody tr th {\n",
       "        vertical-align: top;\n",
       "    }\n",
       "\n",
       "    .dataframe thead th {\n",
       "        text-align: right;\n",
       "    }\n",
       "</style>\n",
       "<table border=\"1\" class=\"dataframe\">\n",
       "  <thead>\n",
       "    <tr style=\"text-align: right;\">\n",
       "      <th></th>\n",
       "      <th>Accident_Index</th>\n",
       "      <th>1st_Road_Class</th>\n",
       "      <th>1st_Road_Number</th>\n",
       "      <th>2nd_Road_Class</th>\n",
       "      <th>2nd_Road_Number</th>\n",
       "      <th>Accident_Severity</th>\n",
       "      <th>Carriageway_Hazards</th>\n",
       "      <th>Date</th>\n",
       "      <th>Day_of_Week</th>\n",
       "      <th>Did_Police_Officer_Attend_Scene_of_Accident</th>\n",
       "      <th>...</th>\n",
       "      <th>Police_Force</th>\n",
       "      <th>Road_Surface_Conditions</th>\n",
       "      <th>Road_Type</th>\n",
       "      <th>Special_Conditions_at_Site</th>\n",
       "      <th>Speed_limit</th>\n",
       "      <th>Time</th>\n",
       "      <th>Urban_or_Rural_Area</th>\n",
       "      <th>Weather_Conditions</th>\n",
       "      <th>Year</th>\n",
       "      <th>InScotland</th>\n",
       "    </tr>\n",
       "  </thead>\n",
       "  <tbody>\n",
       "    <tr>\n",
       "      <th>0</th>\n",
       "      <td>200501BS00001</td>\n",
       "      <td>A</td>\n",
       "      <td>3218</td>\n",
       "      <td>Unclassified</td>\n",
       "      <td>0</td>\n",
       "      <td>Serious</td>\n",
       "      <td>None</td>\n",
       "      <td>2005-01-04</td>\n",
       "      <td>Tuesday</td>\n",
       "      <td>1.0</td>\n",
       "      <td>...</td>\n",
       "      <td>Metropolitan Police</td>\n",
       "      <td>Wet or damp</td>\n",
       "      <td>Single carriageway</td>\n",
       "      <td>None</td>\n",
       "      <td>30.0</td>\n",
       "      <td>17:42:00</td>\n",
       "      <td>Urban</td>\n",
       "      <td>Raining no high winds</td>\n",
       "      <td>2005</td>\n",
       "      <td>No</td>\n",
       "    </tr>\n",
       "    <tr>\n",
       "      <th>1</th>\n",
       "      <td>200501BS00002</td>\n",
       "      <td>B</td>\n",
       "      <td>450</td>\n",
       "      <td>C</td>\n",
       "      <td>0</td>\n",
       "      <td>Slight</td>\n",
       "      <td>None</td>\n",
       "      <td>2005-01-05</td>\n",
       "      <td>Wednesday</td>\n",
       "      <td>1.0</td>\n",
       "      <td>...</td>\n",
       "      <td>Metropolitan Police</td>\n",
       "      <td>Dry</td>\n",
       "      <td>Dual carriageway</td>\n",
       "      <td>None</td>\n",
       "      <td>30.0</td>\n",
       "      <td>17:36:00</td>\n",
       "      <td>Urban</td>\n",
       "      <td>Fine no high winds</td>\n",
       "      <td>2005</td>\n",
       "      <td>No</td>\n",
       "    </tr>\n",
       "    <tr>\n",
       "      <th>2</th>\n",
       "      <td>200501BS00003</td>\n",
       "      <td>C</td>\n",
       "      <td>0</td>\n",
       "      <td>C</td>\n",
       "      <td>0</td>\n",
       "      <td>Slight</td>\n",
       "      <td>None</td>\n",
       "      <td>2005-01-06</td>\n",
       "      <td>Thursday</td>\n",
       "      <td>1.0</td>\n",
       "      <td>...</td>\n",
       "      <td>Metropolitan Police</td>\n",
       "      <td>Dry</td>\n",
       "      <td>Single carriageway</td>\n",
       "      <td>None</td>\n",
       "      <td>30.0</td>\n",
       "      <td>00:15:00</td>\n",
       "      <td>Urban</td>\n",
       "      <td>Fine no high winds</td>\n",
       "      <td>2005</td>\n",
       "      <td>No</td>\n",
       "    </tr>\n",
       "    <tr>\n",
       "      <th>3</th>\n",
       "      <td>200501BS00004</td>\n",
       "      <td>A</td>\n",
       "      <td>3220</td>\n",
       "      <td>Unclassified</td>\n",
       "      <td>0</td>\n",
       "      <td>Slight</td>\n",
       "      <td>None</td>\n",
       "      <td>2005-01-07</td>\n",
       "      <td>Friday</td>\n",
       "      <td>1.0</td>\n",
       "      <td>...</td>\n",
       "      <td>Metropolitan Police</td>\n",
       "      <td>Dry</td>\n",
       "      <td>Single carriageway</td>\n",
       "      <td>None</td>\n",
       "      <td>30.0</td>\n",
       "      <td>10:35:00</td>\n",
       "      <td>Urban</td>\n",
       "      <td>Fine no high winds</td>\n",
       "      <td>2005</td>\n",
       "      <td>No</td>\n",
       "    </tr>\n",
       "    <tr>\n",
       "      <th>4</th>\n",
       "      <td>200501BS00005</td>\n",
       "      <td>Unclassified</td>\n",
       "      <td>0</td>\n",
       "      <td>Unclassified</td>\n",
       "      <td>0</td>\n",
       "      <td>Slight</td>\n",
       "      <td>None</td>\n",
       "      <td>2005-01-10</td>\n",
       "      <td>Monday</td>\n",
       "      <td>1.0</td>\n",
       "      <td>...</td>\n",
       "      <td>Metropolitan Police</td>\n",
       "      <td>Wet or damp</td>\n",
       "      <td>Single carriageway</td>\n",
       "      <td>None</td>\n",
       "      <td>30.0</td>\n",
       "      <td>21:13:00</td>\n",
       "      <td>Urban</td>\n",
       "      <td>Fine no high winds</td>\n",
       "      <td>2005</td>\n",
       "      <td>No</td>\n",
       "    </tr>\n",
       "  </tbody>\n",
       "</table>\n",
       "<p>5 rows × 32 columns</p>\n",
       "</div>"
      ],
      "text/plain": [
       "  Accident_Index 1st_Road_Class  1st_Road_Number 2nd_Road_Class  \\\n",
       "0  200501BS00001              A             3218   Unclassified   \n",
       "1  200501BS00002              B              450              C   \n",
       "2  200501BS00003              C                0              C   \n",
       "3  200501BS00004              A             3220   Unclassified   \n",
       "4  200501BS00005   Unclassified                0   Unclassified   \n",
       "\n",
       "   2nd_Road_Number Accident_Severity Carriageway_Hazards       Date  \\\n",
       "0                0           Serious                None 2005-01-04   \n",
       "1                0            Slight                None 2005-01-05   \n",
       "2                0            Slight                None 2005-01-06   \n",
       "3                0            Slight                None 2005-01-07   \n",
       "4                0            Slight                None 2005-01-10   \n",
       "\n",
       "  Day_of_Week Did_Police_Officer_Attend_Scene_of_Accident  ...  \\\n",
       "0     Tuesday                                         1.0  ...   \n",
       "1   Wednesday                                         1.0  ...   \n",
       "2    Thursday                                         1.0  ...   \n",
       "3      Friday                                         1.0  ...   \n",
       "4      Monday                                         1.0  ...   \n",
       "\n",
       "          Police_Force Road_Surface_Conditions           Road_Type  \\\n",
       "0  Metropolitan Police             Wet or damp  Single carriageway   \n",
       "1  Metropolitan Police                     Dry    Dual carriageway   \n",
       "2  Metropolitan Police                     Dry  Single carriageway   \n",
       "3  Metropolitan Police                     Dry  Single carriageway   \n",
       "4  Metropolitan Police             Wet or damp  Single carriageway   \n",
       "\n",
       "  Special_Conditions_at_Site Speed_limit      Time  Urban_or_Rural_Area  \\\n",
       "0                       None        30.0  17:42:00                Urban   \n",
       "1                       None        30.0  17:36:00                Urban   \n",
       "2                       None        30.0  00:15:00                Urban   \n",
       "3                       None        30.0  10:35:00                Urban   \n",
       "4                       None        30.0  21:13:00                Urban   \n",
       "\n",
       "      Weather_Conditions  Year  InScotland  \n",
       "0  Raining no high winds  2005          No  \n",
       "1     Fine no high winds  2005          No  \n",
       "2     Fine no high winds  2005          No  \n",
       "3     Fine no high winds  2005          No  \n",
       "4     Fine no high winds  2005          No  \n",
       "\n",
       "[5 rows x 32 columns]"
      ]
     },
     "execution_count": 125,
     "metadata": {},
     "output_type": "execute_result"
    }
   ],
   "source": [
    "acc_df.head()"
   ]
  },
  {
   "cell_type": "code",
   "execution_count": 126,
   "metadata": {},
   "outputs": [],
   "source": [
    "acc_df.to_csv('clean_acc_info.csv')"
   ]
  }
 ],
 "metadata": {
  "kernelspec": {
   "display_name": "Python 3.11.2 64-bit",
   "language": "python",
   "name": "python3"
  },
  "language_info": {
   "codemirror_mode": {
    "name": "ipython",
    "version": 3
   },
   "file_extension": ".py",
   "mimetype": "text/x-python",
   "name": "python",
   "nbconvert_exporter": "python",
   "pygments_lexer": "ipython3",
   "version": "3.11.2"
  },
  "orig_nbformat": 4,
  "vscode": {
   "interpreter": {
    "hash": "333d2c9757a75282c9d4867cccb346dd97fbdd6438562bec117fa31e687fe23c"
   }
  }
 },
 "nbformat": 4,
 "nbformat_minor": 2
}
